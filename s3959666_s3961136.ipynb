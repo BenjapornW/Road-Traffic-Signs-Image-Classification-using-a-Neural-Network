{
  "nbformat": 4,
  "nbformat_minor": 0,
  "metadata": {
    "colab": {
      "provenance": []
    },
    "kernelspec": {
      "name": "python3",
      "display_name": "Python 3"
    },
    "language_info": {
      "name": "python"
    }
  },
  "cells": [
    {
      "cell_type": "markdown",
      "source": [
        "# Project 1: Classify Images of Road Traffic Signs"
      ],
      "metadata": {
        "id": "j8vjB9uidHKC"
      }
    },
    {
      "cell_type": "code",
      "source": [
        "import pandas as pd\n",
        "import matplotlib.pyplot as plt\n",
        "import numpy as np"
      ],
      "metadata": {
        "id": "FgYzXGOLdgmJ"
      },
      "execution_count": 1,
      "outputs": []
    },
    {
      "cell_type": "code",
      "execution_count": 2,
      "metadata": {
        "id": "wtKynnshY6h-",
        "colab": {
          "base_uri": "https://localhost:8080/"
        },
        "outputId": "cfd694ef-bc81-438b-8ec6-fcf6d6ad7b2e"
      },
      "outputs": [
        {
          "output_type": "stream",
          "name": "stdout",
          "text": [
            "Mounted at /content/drive\n"
          ]
        }
      ],
      "source": [
        "from google.colab import drive\n",
        "drive .mount('/content/drive')"
      ]
    },
    {
      "cell_type": "code",
      "source": [
        "!cp /content/drive/'My Drive'/Assignment 2/trafficsigns_dataset"
      ],
      "metadata": {
        "id": "l5igrgfldwn8",
        "colab": {
          "base_uri": "https://localhost:8080/"
        },
        "outputId": "a20d5366-f59f-49bb-c3c5-87c5ab5f5fc1"
      },
      "execution_count": 4,
      "outputs": [
        {
          "output_type": "stream",
          "name": "stdout",
          "text": [
            "cp: cannot stat '/content/drive/My Drive/Assignment': No such file or directory\n"
          ]
        }
      ]
    },
    {
      "cell_type": "markdown",
      "source": [
        "### Objective\n",
        "- objective 1"
      ],
      "metadata": {
        "id": "vdURfWPWxNbS"
      }
    },
    {
      "cell_type": "markdown",
      "source": [
        "### Dataset"
      ],
      "metadata": {
        "id": "NboIbxGoxRPT"
      }
    },
    {
      "cell_type": "markdown",
      "source": [
        "Input variables:\n",
        "\n",
        "Output variable (desired target):"
      ],
      "metadata": {
        "id": "t5h3MDvcxsu8"
      }
    },
    {
      "cell_type": "markdown",
      "source": [
        "### EDA"
      ],
      "metadata": {
        "id": "295qd6cnzKJl"
      }
    }
  ]
}