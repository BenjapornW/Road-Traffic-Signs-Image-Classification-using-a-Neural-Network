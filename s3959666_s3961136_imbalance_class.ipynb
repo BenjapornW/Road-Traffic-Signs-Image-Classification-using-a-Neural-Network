{
  "cells": [
    {
      "cell_type": "markdown",
      "metadata": {
        "id": "j8vjB9uidHKC"
      },
      "source": [
        "# Project 1: Classify Images of Road Traffic Signs"
      ]
    },
    {
      "cell_type": "markdown",
      "metadata": {
        "id": "vdURfWPWxNbS"
      },
      "source": [
        "### Objective\n",
        "-  Identify and classify images of road traffic signs to enhance navigation systems and improve road safety"
      ]
    },
    {
      "cell_type": "markdown",
      "metadata": {
        "id": "NboIbxGoxRPT"
      },
      "source": [
        "### **Dataset**"
      ]
    },
    {
      "cell_type": "markdown",
      "metadata": {
        "id": "t5h3MDvcxsu8"
      },
      "source": [
        "Source: Belgium Traffic Sign Classification Benchmark, German TSC dataset\n",
        "\n",
        "Input variables:\n",
        "\n",
        "Output variable (desired target):"
      ]
    },
    {
      "cell_type": "markdown",
      "source": [
        "# Table of Contents\n",
        "* 1. Import Libraries\n",
        "* 2. Process the dataset\n",
        "* 3. Exploratory Data Analysis (EDA)\n",
        "  - 3.1 Visualise sample images according to shape and type\n",
        "  - 3.2 Data Distribution\n",
        "* 4. Data Splitting\n",
        "* 5. Data Modelling\n",
        "  - 5.1 Baseline Model: MLP NN\n",
        "    - Model 1.1: Shape classification using MLP NN\n",
        "    - Model 1.2: Type classification using MLP NN\n",
        "    - Model 1.3: Combined Model using MLP NN\n",
        "  - 5.2 Advanced Model: CNN VGG\n",
        "    - Model 2.1: Shape classification using CNN\n",
        "    - Model 2.2: Type\n",
        "classification using CNN\n",
        "  - Data Augmentation\n",
        "* 6. Testing the model\n",
        "* 7. Conclusion\n",
        "* 8. Reference"
      ],
      "metadata": {
        "id": "DRLXGUgWWMiy"
      }
    },
    {
      "cell_type": "markdown",
      "metadata": {
        "id": "X3O4gmyTkgTc"
      },
      "source": [
        "## 1. Import Libraries"
      ]
    },
    {
      "cell_type": "code",
      "execution_count": 2,
      "metadata": {
        "id": "FgYzXGOLdgmJ"
      },
      "outputs": [],
      "source": [
        "import pandas as pd\n",
        "import matplotlib.pyplot as plt\n",
        "import numpy as np\n",
        "import os\n",
        "import itertools\n",
        "from sklearn.metrics import confusion_matrix, f1_score\n",
        "from imblearn.over_sampling import SMOTE\n",
        "\n",
        "# show better graph\n",
        "%matplotlib inline"
      ]
    },
    {
      "cell_type": "code",
      "execution_count": 3,
      "metadata": {
        "id": "wtKynnshY6h-",
        "colab": {
          "base_uri": "https://localhost:8080/"
        },
        "outputId": "4d407db3-8819-4369-bdf7-d8585368bbdb"
      },
      "outputs": [
        {
          "output_type": "stream",
          "name": "stdout",
          "text": [
            "Mounted at /content/drive\n"
          ]
        }
      ],
      "source": [
        "from google.colab import drive\n",
        "drive .mount('/content/drive')"
      ]
    },
    {
      "cell_type": "markdown",
      "metadata": {
        "id": "eKchmLBwkxTo"
      },
      "source": [
        "#### Connect to the dataset file from google drive"
      ]
    },
    {
      "cell_type": "code",
      "execution_count": 4,
      "metadata": {
        "id": "l5igrgfldwn8"
      },
      "outputs": [],
      "source": [
        "# !cp /content/drive/'My Drive'/Assignment2/trafficsigns_dataset.zip .\n",
        "\n",
        "\n",
        "!cp /content/drive/'My Drive'/COSC2673/Assignments/Assignment2/trafficsigns_dataset.zip .\n",
        "!cp /content/drive/'My Drive'/COSC2673/Assignments/Assignment2/trafficsigns_dataset_testing.zip ."
      ]
    },
    {
      "cell_type": "markdown",
      "metadata": {
        "id": "jB8SUCXQmY5r"
      },
      "source": [
        "Unzip the dataset"
      ]
    },
    {
      "cell_type": "code",
      "execution_count": 5,
      "metadata": {
        "id": "nkPFMcu7mY5r"
      },
      "outputs": [],
      "source": [
        "import zipfile\n",
        "with zipfile.ZipFile('trafficsigns_dataset.zip', 'r') as zip_ref:\n",
        "    zip_ref.extractall('./')\n",
        "with zipfile.ZipFile('trafficsigns_dataset_testing.zip', 'r') as zip_ref_test:\n",
        "    zip_ref_test.extractall('./')"
      ]
    },
    {
      "cell_type": "markdown",
      "metadata": {
        "id": "eD_X6GfFQYhy"
      },
      "source": [
        "## 2. Process the dataset\n",
        "Collect Image Files\n",
        "- Function to traverse directories recursively and collect image files from the offered dataset and additional dataset for testing"
      ]
    },
    {
      "cell_type": "code",
      "execution_count": 6,
      "metadata": {
        "id": "JaFM7ywEPMbC"
      },
      "outputs": [],
      "source": [
        "def collect_image_files(directory):\n",
        "    image_files = []\n",
        "    for root, dirs, files in os.walk(directory):\n",
        "        for file in files:\n",
        "            if file.endswith('.jpg') or file.endswith('.png'):\n",
        "                image_files.append(os.path.join(root, file))\n",
        "    return image_files"
      ]
    },
    {
      "cell_type": "code",
      "execution_count": 7,
      "metadata": {
        "id": "kgrfwVeEQvUq"
      },
      "outputs": [],
      "source": [
        "all_image_files = collect_image_files('./trafficsigns_dataset')\n",
        "all_test_image = collect_image_files('./trafficsigns_dataset_testing')"
      ]
    },
    {
      "cell_type": "markdown",
      "metadata": {
        "id": "EFZbb0kdlW-s"
      },
      "source": [
        "Create a DataFrame with image file paths in a column named 'image_path'"
      ]
    },
    {
      "cell_type": "code",
      "execution_count": 8,
      "metadata": {
        "id": "_F4YlVVQRYVs"
      },
      "outputs": [],
      "source": [
        "df = pd.DataFrame({'image_path': all_image_files})\n",
        "df_test = pd.DataFrame({'image_path': all_test_image})"
      ]
    },
    {
      "cell_type": "markdown",
      "metadata": {
        "id": "3jgcc-bRlmVS"
      },
      "source": [
        "To encode the traffic sign shapes and types"
      ]
    },
    {
      "cell_type": "code",
      "execution_count": 9,
      "metadata": {
        "id": "bC0Uz2_pSn9_"
      },
      "outputs": [],
      "source": [
        "trafficsigns_shapes = {'diamond': 0, 'hex': 1, 'round': 2, 'square': 3, 'triangle': 4}\n",
        "trafficsigns_types = {'rightofway': 0, 'stop': 1, 'bicycle': 2, 'limitedtraffic': 3, 'noentry': 4, 'noparking': 5,\n",
        "                      'roundabout':6, 'speed': 7, 'trafficdirective': 8, 'traveldirection': 9, 'continue': 10,\n",
        "                      'crossing': 11,  'laneend': 12, 'parking': 13, 'giveway': 14, 'warning': 15}"
      ]
    },
    {
      "cell_type": "markdown",
      "metadata": {
        "id": "UyM6kBSVniLJ"
      },
      "source": [
        "This project involves **multi-class image classification** and features traffic signs categorised into 5 shape classes and 16 type classes, with each image being classified into one of these categories"
      ]
    },
    {
      "cell_type": "code",
      "execution_count": 10,
      "metadata": {
        "id": "kDta36fdVKrI"
      },
      "outputs": [],
      "source": [
        "def assign_class_label(image_path):\n",
        "    # Split the image path by '/'\n",
        "    parts = image_path.split('/')\n",
        "\n",
        "    # Extract shape and type from the parts\n",
        "    shape = parts[-3]\n",
        "    trafficsign_type = parts[-2]\n",
        "\n",
        "    # Map shape and type to corresponding class labels using the dictionaries\n",
        "    shape_label = trafficsigns_shapes.get(shape, -1)  # -1 if shape not found in dictionary\n",
        "    type_label = trafficsigns_types.get(trafficsign_type, -1)  # -1 if type not found in dictionary\n",
        "\n",
        "    # Return a tuple of shape label and type label\n",
        "    return (shape_label, type_label)\n"
      ]
    },
    {
      "cell_type": "markdown",
      "metadata": {
        "id": "aQzqIhfCXd1Z"
      },
      "source": [
        "- Get the dataframe with image_path, shape_label and type_label"
      ]
    },
    {
      "cell_type": "code",
      "execution_count": 11,
      "metadata": {
        "id": "_UOHEx3XWm9h"
      },
      "outputs": [],
      "source": [
        "df['shape_label'], df['type_label'] = zip(*df['image_path'].apply(assign_class_label))\n",
        "df_test['shape_label'], df_test['type_label'] = zip(*df_test['image_path'].apply(assign_class_label))"
      ]
    },
    {
      "cell_type": "code",
      "execution_count": 12,
      "metadata": {
        "id": "Mkm5A6wp2Vbw",
        "colab": {
          "base_uri": "https://localhost:8080/"
        },
        "outputId": "c63f0d15-944d-4b12-ff7d-dd83d637b2cc"
      },
      "outputs": [
        {
          "output_type": "stream",
          "name": "stdout",
          "text": [
            "Shape of offered dataset: (3699, 3).\n",
            " Shape of additional dataset: (2234, 3)\n"
          ]
        }
      ],
      "source": [
        "print(f\"Shape of offered dataset: {df.shape}.\\n Shape of additional dataset: {df_test.shape}\")"
      ]
    },
    {
      "cell_type": "code",
      "execution_count": 13,
      "metadata": {
        "id": "SltF863UWue4",
        "colab": {
          "base_uri": "https://localhost:8080/",
          "height": 206
        },
        "outputId": "af2c2662-5ee0-4659-c63f-8bede48444a9"
      },
      "outputs": [
        {
          "output_type": "execute_result",
          "data": {
            "text/plain": [
              "                                          image_path  shape_label  type_label\n",
              "0  ./trafficsigns_dataset/triangle/giveway/01579_...            4          14\n",
              "1  ./trafficsigns_dataset/triangle/giveway/00015_...            4          14\n",
              "2  ./trafficsigns_dataset/triangle/giveway/00811_...            4          14\n",
              "3  ./trafficsigns_dataset/triangle/giveway/00072_...            4          14\n",
              "4  ./trafficsigns_dataset/triangle/giveway/00066_...            4          14"
            ],
            "text/html": [
              "\n",
              "  <div id=\"df-4a7b3b43-b47f-4c4e-85d6-81c515a772bd\" class=\"colab-df-container\">\n",
              "    <div>\n",
              "<style scoped>\n",
              "    .dataframe tbody tr th:only-of-type {\n",
              "        vertical-align: middle;\n",
              "    }\n",
              "\n",
              "    .dataframe tbody tr th {\n",
              "        vertical-align: top;\n",
              "    }\n",
              "\n",
              "    .dataframe thead th {\n",
              "        text-align: right;\n",
              "    }\n",
              "</style>\n",
              "<table border=\"1\" class=\"dataframe\">\n",
              "  <thead>\n",
              "    <tr style=\"text-align: right;\">\n",
              "      <th></th>\n",
              "      <th>image_path</th>\n",
              "      <th>shape_label</th>\n",
              "      <th>type_label</th>\n",
              "    </tr>\n",
              "  </thead>\n",
              "  <tbody>\n",
              "    <tr>\n",
              "      <th>0</th>\n",
              "      <td>./trafficsigns_dataset/triangle/giveway/01579_...</td>\n",
              "      <td>4</td>\n",
              "      <td>14</td>\n",
              "    </tr>\n",
              "    <tr>\n",
              "      <th>1</th>\n",
              "      <td>./trafficsigns_dataset/triangle/giveway/00015_...</td>\n",
              "      <td>4</td>\n",
              "      <td>14</td>\n",
              "    </tr>\n",
              "    <tr>\n",
              "      <th>2</th>\n",
              "      <td>./trafficsigns_dataset/triangle/giveway/00811_...</td>\n",
              "      <td>4</td>\n",
              "      <td>14</td>\n",
              "    </tr>\n",
              "    <tr>\n",
              "      <th>3</th>\n",
              "      <td>./trafficsigns_dataset/triangle/giveway/00072_...</td>\n",
              "      <td>4</td>\n",
              "      <td>14</td>\n",
              "    </tr>\n",
              "    <tr>\n",
              "      <th>4</th>\n",
              "      <td>./trafficsigns_dataset/triangle/giveway/00066_...</td>\n",
              "      <td>4</td>\n",
              "      <td>14</td>\n",
              "    </tr>\n",
              "  </tbody>\n",
              "</table>\n",
              "</div>\n",
              "    <div class=\"colab-df-buttons\">\n",
              "\n",
              "  <div class=\"colab-df-container\">\n",
              "    <button class=\"colab-df-convert\" onclick=\"convertToInteractive('df-4a7b3b43-b47f-4c4e-85d6-81c515a772bd')\"\n",
              "            title=\"Convert this dataframe to an interactive table.\"\n",
              "            style=\"display:none;\">\n",
              "\n",
              "  <svg xmlns=\"http://www.w3.org/2000/svg\" height=\"24px\" viewBox=\"0 -960 960 960\">\n",
              "    <path d=\"M120-120v-720h720v720H120Zm60-500h600v-160H180v160Zm220 220h160v-160H400v160Zm0 220h160v-160H400v160ZM180-400h160v-160H180v160Zm440 0h160v-160H620v160ZM180-180h160v-160H180v160Zm440 0h160v-160H620v160Z\"/>\n",
              "  </svg>\n",
              "    </button>\n",
              "\n",
              "  <style>\n",
              "    .colab-df-container {\n",
              "      display:flex;\n",
              "      gap: 12px;\n",
              "    }\n",
              "\n",
              "    .colab-df-convert {\n",
              "      background-color: #E8F0FE;\n",
              "      border: none;\n",
              "      border-radius: 50%;\n",
              "      cursor: pointer;\n",
              "      display: none;\n",
              "      fill: #1967D2;\n",
              "      height: 32px;\n",
              "      padding: 0 0 0 0;\n",
              "      width: 32px;\n",
              "    }\n",
              "\n",
              "    .colab-df-convert:hover {\n",
              "      background-color: #E2EBFA;\n",
              "      box-shadow: 0px 1px 2px rgba(60, 64, 67, 0.3), 0px 1px 3px 1px rgba(60, 64, 67, 0.15);\n",
              "      fill: #174EA6;\n",
              "    }\n",
              "\n",
              "    .colab-df-buttons div {\n",
              "      margin-bottom: 4px;\n",
              "    }\n",
              "\n",
              "    [theme=dark] .colab-df-convert {\n",
              "      background-color: #3B4455;\n",
              "      fill: #D2E3FC;\n",
              "    }\n",
              "\n",
              "    [theme=dark] .colab-df-convert:hover {\n",
              "      background-color: #434B5C;\n",
              "      box-shadow: 0px 1px 3px 1px rgba(0, 0, 0, 0.15);\n",
              "      filter: drop-shadow(0px 1px 2px rgba(0, 0, 0, 0.3));\n",
              "      fill: #FFFFFF;\n",
              "    }\n",
              "  </style>\n",
              "\n",
              "    <script>\n",
              "      const buttonEl =\n",
              "        document.querySelector('#df-4a7b3b43-b47f-4c4e-85d6-81c515a772bd button.colab-df-convert');\n",
              "      buttonEl.style.display =\n",
              "        google.colab.kernel.accessAllowed ? 'block' : 'none';\n",
              "\n",
              "      async function convertToInteractive(key) {\n",
              "        const element = document.querySelector('#df-4a7b3b43-b47f-4c4e-85d6-81c515a772bd');\n",
              "        const dataTable =\n",
              "          await google.colab.kernel.invokeFunction('convertToInteractive',\n",
              "                                                    [key], {});\n",
              "        if (!dataTable) return;\n",
              "\n",
              "        const docLinkHtml = 'Like what you see? Visit the ' +\n",
              "          '<a target=\"_blank\" href=https://colab.research.google.com/notebooks/data_table.ipynb>data table notebook</a>'\n",
              "          + ' to learn more about interactive tables.';\n",
              "        element.innerHTML = '';\n",
              "        dataTable['output_type'] = 'display_data';\n",
              "        await google.colab.output.renderOutput(dataTable, element);\n",
              "        const docLink = document.createElement('div');\n",
              "        docLink.innerHTML = docLinkHtml;\n",
              "        element.appendChild(docLink);\n",
              "      }\n",
              "    </script>\n",
              "  </div>\n",
              "\n",
              "\n",
              "<div id=\"df-e52ee7a8-7ff0-4c40-8916-4ae3321a907e\">\n",
              "  <button class=\"colab-df-quickchart\" onclick=\"quickchart('df-e52ee7a8-7ff0-4c40-8916-4ae3321a907e')\"\n",
              "            title=\"Suggest charts\"\n",
              "            style=\"display:none;\">\n",
              "\n",
              "<svg xmlns=\"http://www.w3.org/2000/svg\" height=\"24px\"viewBox=\"0 0 24 24\"\n",
              "     width=\"24px\">\n",
              "    <g>\n",
              "        <path d=\"M19 3H5c-1.1 0-2 .9-2 2v14c0 1.1.9 2 2 2h14c1.1 0 2-.9 2-2V5c0-1.1-.9-2-2-2zM9 17H7v-7h2v7zm4 0h-2V7h2v10zm4 0h-2v-4h2v4z\"/>\n",
              "    </g>\n",
              "</svg>\n",
              "  </button>\n",
              "\n",
              "<style>\n",
              "  .colab-df-quickchart {\n",
              "      --bg-color: #E8F0FE;\n",
              "      --fill-color: #1967D2;\n",
              "      --hover-bg-color: #E2EBFA;\n",
              "      --hover-fill-color: #174EA6;\n",
              "      --disabled-fill-color: #AAA;\n",
              "      --disabled-bg-color: #DDD;\n",
              "  }\n",
              "\n",
              "  [theme=dark] .colab-df-quickchart {\n",
              "      --bg-color: #3B4455;\n",
              "      --fill-color: #D2E3FC;\n",
              "      --hover-bg-color: #434B5C;\n",
              "      --hover-fill-color: #FFFFFF;\n",
              "      --disabled-bg-color: #3B4455;\n",
              "      --disabled-fill-color: #666;\n",
              "  }\n",
              "\n",
              "  .colab-df-quickchart {\n",
              "    background-color: var(--bg-color);\n",
              "    border: none;\n",
              "    border-radius: 50%;\n",
              "    cursor: pointer;\n",
              "    display: none;\n",
              "    fill: var(--fill-color);\n",
              "    height: 32px;\n",
              "    padding: 0;\n",
              "    width: 32px;\n",
              "  }\n",
              "\n",
              "  .colab-df-quickchart:hover {\n",
              "    background-color: var(--hover-bg-color);\n",
              "    box-shadow: 0 1px 2px rgba(60, 64, 67, 0.3), 0 1px 3px 1px rgba(60, 64, 67, 0.15);\n",
              "    fill: var(--button-hover-fill-color);\n",
              "  }\n",
              "\n",
              "  .colab-df-quickchart-complete:disabled,\n",
              "  .colab-df-quickchart-complete:disabled:hover {\n",
              "    background-color: var(--disabled-bg-color);\n",
              "    fill: var(--disabled-fill-color);\n",
              "    box-shadow: none;\n",
              "  }\n",
              "\n",
              "  .colab-df-spinner {\n",
              "    border: 2px solid var(--fill-color);\n",
              "    border-color: transparent;\n",
              "    border-bottom-color: var(--fill-color);\n",
              "    animation:\n",
              "      spin 1s steps(1) infinite;\n",
              "  }\n",
              "\n",
              "  @keyframes spin {\n",
              "    0% {\n",
              "      border-color: transparent;\n",
              "      border-bottom-color: var(--fill-color);\n",
              "      border-left-color: var(--fill-color);\n",
              "    }\n",
              "    20% {\n",
              "      border-color: transparent;\n",
              "      border-left-color: var(--fill-color);\n",
              "      border-top-color: var(--fill-color);\n",
              "    }\n",
              "    30% {\n",
              "      border-color: transparent;\n",
              "      border-left-color: var(--fill-color);\n",
              "      border-top-color: var(--fill-color);\n",
              "      border-right-color: var(--fill-color);\n",
              "    }\n",
              "    40% {\n",
              "      border-color: transparent;\n",
              "      border-right-color: var(--fill-color);\n",
              "      border-top-color: var(--fill-color);\n",
              "    }\n",
              "    60% {\n",
              "      border-color: transparent;\n",
              "      border-right-color: var(--fill-color);\n",
              "    }\n",
              "    80% {\n",
              "      border-color: transparent;\n",
              "      border-right-color: var(--fill-color);\n",
              "      border-bottom-color: var(--fill-color);\n",
              "    }\n",
              "    90% {\n",
              "      border-color: transparent;\n",
              "      border-bottom-color: var(--fill-color);\n",
              "    }\n",
              "  }\n",
              "</style>\n",
              "\n",
              "  <script>\n",
              "    async function quickchart(key) {\n",
              "      const quickchartButtonEl =\n",
              "        document.querySelector('#' + key + ' button');\n",
              "      quickchartButtonEl.disabled = true;  // To prevent multiple clicks.\n",
              "      quickchartButtonEl.classList.add('colab-df-spinner');\n",
              "      try {\n",
              "        const charts = await google.colab.kernel.invokeFunction(\n",
              "            'suggestCharts', [key], {});\n",
              "      } catch (error) {\n",
              "        console.error('Error during call to suggestCharts:', error);\n",
              "      }\n",
              "      quickchartButtonEl.classList.remove('colab-df-spinner');\n",
              "      quickchartButtonEl.classList.add('colab-df-quickchart-complete');\n",
              "    }\n",
              "    (() => {\n",
              "      let quickchartButtonEl =\n",
              "        document.querySelector('#df-e52ee7a8-7ff0-4c40-8916-4ae3321a907e button');\n",
              "      quickchartButtonEl.style.display =\n",
              "        google.colab.kernel.accessAllowed ? 'block' : 'none';\n",
              "    })();\n",
              "  </script>\n",
              "</div>\n",
              "\n",
              "    </div>\n",
              "  </div>\n"
            ],
            "application/vnd.google.colaboratory.intrinsic+json": {
              "type": "dataframe",
              "variable_name": "df",
              "summary": "{\n  \"name\": \"df\",\n  \"rows\": 3699,\n  \"fields\": [\n    {\n      \"column\": \"image_path\",\n      \"properties\": {\n        \"dtype\": \"string\",\n        \"num_unique_values\": 3699,\n        \"samples\": [\n          \"./trafficsigns_dataset/diamond/rightofway/01933_00002.png\",\n          \"./trafficsigns_dataset/round/noentry/00954_00002.png\",\n          \"./trafficsigns_dataset/triangle/warning/01782_00000.png\"\n        ],\n        \"semantic_type\": \"\",\n        \"description\": \"\"\n      }\n    },\n    {\n      \"column\": \"shape_label\",\n      \"properties\": {\n        \"dtype\": \"number\",\n        \"std\": 1,\n        \"min\": 0,\n        \"max\": 4,\n        \"num_unique_values\": 5,\n        \"samples\": [\n          0,\n          2,\n          3\n        ],\n        \"semantic_type\": \"\",\n        \"description\": \"\"\n      }\n    },\n    {\n      \"column\": \"type_label\",\n      \"properties\": {\n        \"dtype\": \"number\",\n        \"std\": 5,\n        \"min\": 0,\n        \"max\": 15,\n        \"num_unique_values\": 16,\n        \"samples\": [\n          14,\n          15,\n          13\n        ],\n        \"semantic_type\": \"\",\n        \"description\": \"\"\n      }\n    }\n  ]\n}"
            }
          },
          "metadata": {},
          "execution_count": 13
        }
      ],
      "source": [
        "df.head()"
      ]
    },
    {
      "cell_type": "code",
      "source": [
        "df_test.head()"
      ],
      "metadata": {
        "id": "dOQ7A_QQKyZW",
        "outputId": "70294c40-d766-4777-d615-5efe863595ac",
        "colab": {
          "base_uri": "https://localhost:8080/",
          "height": 206
        }
      },
      "execution_count": 14,
      "outputs": [
        {
          "output_type": "execute_result",
          "data": {
            "text/plain": [
              "                                          image_path  shape_label  type_label\n",
              "0  ./trafficsigns_dataset_testing/triangle/givewa...            4          14\n",
              "1  ./trafficsigns_dataset_testing/triangle/givewa...            4          14\n",
              "2  ./trafficsigns_dataset_testing/triangle/givewa...            4          14\n",
              "3  ./trafficsigns_dataset_testing/triangle/givewa...            4          14\n",
              "4  ./trafficsigns_dataset_testing/triangle/givewa...            4          14"
            ],
            "text/html": [
              "\n",
              "  <div id=\"df-1de9619e-f1be-4ba1-b103-d11b71bc195c\" class=\"colab-df-container\">\n",
              "    <div>\n",
              "<style scoped>\n",
              "    .dataframe tbody tr th:only-of-type {\n",
              "        vertical-align: middle;\n",
              "    }\n",
              "\n",
              "    .dataframe tbody tr th {\n",
              "        vertical-align: top;\n",
              "    }\n",
              "\n",
              "    .dataframe thead th {\n",
              "        text-align: right;\n",
              "    }\n",
              "</style>\n",
              "<table border=\"1\" class=\"dataframe\">\n",
              "  <thead>\n",
              "    <tr style=\"text-align: right;\">\n",
              "      <th></th>\n",
              "      <th>image_path</th>\n",
              "      <th>shape_label</th>\n",
              "      <th>type_label</th>\n",
              "    </tr>\n",
              "  </thead>\n",
              "  <tbody>\n",
              "    <tr>\n",
              "      <th>0</th>\n",
              "      <td>./trafficsigns_dataset_testing/triangle/givewa...</td>\n",
              "      <td>4</td>\n",
              "      <td>14</td>\n",
              "    </tr>\n",
              "    <tr>\n",
              "      <th>1</th>\n",
              "      <td>./trafficsigns_dataset_testing/triangle/givewa...</td>\n",
              "      <td>4</td>\n",
              "      <td>14</td>\n",
              "    </tr>\n",
              "    <tr>\n",
              "      <th>2</th>\n",
              "      <td>./trafficsigns_dataset_testing/triangle/givewa...</td>\n",
              "      <td>4</td>\n",
              "      <td>14</td>\n",
              "    </tr>\n",
              "    <tr>\n",
              "      <th>3</th>\n",
              "      <td>./trafficsigns_dataset_testing/triangle/givewa...</td>\n",
              "      <td>4</td>\n",
              "      <td>14</td>\n",
              "    </tr>\n",
              "    <tr>\n",
              "      <th>4</th>\n",
              "      <td>./trafficsigns_dataset_testing/triangle/givewa...</td>\n",
              "      <td>4</td>\n",
              "      <td>14</td>\n",
              "    </tr>\n",
              "  </tbody>\n",
              "</table>\n",
              "</div>\n",
              "    <div class=\"colab-df-buttons\">\n",
              "\n",
              "  <div class=\"colab-df-container\">\n",
              "    <button class=\"colab-df-convert\" onclick=\"convertToInteractive('df-1de9619e-f1be-4ba1-b103-d11b71bc195c')\"\n",
              "            title=\"Convert this dataframe to an interactive table.\"\n",
              "            style=\"display:none;\">\n",
              "\n",
              "  <svg xmlns=\"http://www.w3.org/2000/svg\" height=\"24px\" viewBox=\"0 -960 960 960\">\n",
              "    <path d=\"M120-120v-720h720v720H120Zm60-500h600v-160H180v160Zm220 220h160v-160H400v160Zm0 220h160v-160H400v160ZM180-400h160v-160H180v160Zm440 0h160v-160H620v160ZM180-180h160v-160H180v160Zm440 0h160v-160H620v160Z\"/>\n",
              "  </svg>\n",
              "    </button>\n",
              "\n",
              "  <style>\n",
              "    .colab-df-container {\n",
              "      display:flex;\n",
              "      gap: 12px;\n",
              "    }\n",
              "\n",
              "    .colab-df-convert {\n",
              "      background-color: #E8F0FE;\n",
              "      border: none;\n",
              "      border-radius: 50%;\n",
              "      cursor: pointer;\n",
              "      display: none;\n",
              "      fill: #1967D2;\n",
              "      height: 32px;\n",
              "      padding: 0 0 0 0;\n",
              "      width: 32px;\n",
              "    }\n",
              "\n",
              "    .colab-df-convert:hover {\n",
              "      background-color: #E2EBFA;\n",
              "      box-shadow: 0px 1px 2px rgba(60, 64, 67, 0.3), 0px 1px 3px 1px rgba(60, 64, 67, 0.15);\n",
              "      fill: #174EA6;\n",
              "    }\n",
              "\n",
              "    .colab-df-buttons div {\n",
              "      margin-bottom: 4px;\n",
              "    }\n",
              "\n",
              "    [theme=dark] .colab-df-convert {\n",
              "      background-color: #3B4455;\n",
              "      fill: #D2E3FC;\n",
              "    }\n",
              "\n",
              "    [theme=dark] .colab-df-convert:hover {\n",
              "      background-color: #434B5C;\n",
              "      box-shadow: 0px 1px 3px 1px rgba(0, 0, 0, 0.15);\n",
              "      filter: drop-shadow(0px 1px 2px rgba(0, 0, 0, 0.3));\n",
              "      fill: #FFFFFF;\n",
              "    }\n",
              "  </style>\n",
              "\n",
              "    <script>\n",
              "      const buttonEl =\n",
              "        document.querySelector('#df-1de9619e-f1be-4ba1-b103-d11b71bc195c button.colab-df-convert');\n",
              "      buttonEl.style.display =\n",
              "        google.colab.kernel.accessAllowed ? 'block' : 'none';\n",
              "\n",
              "      async function convertToInteractive(key) {\n",
              "        const element = document.querySelector('#df-1de9619e-f1be-4ba1-b103-d11b71bc195c');\n",
              "        const dataTable =\n",
              "          await google.colab.kernel.invokeFunction('convertToInteractive',\n",
              "                                                    [key], {});\n",
              "        if (!dataTable) return;\n",
              "\n",
              "        const docLinkHtml = 'Like what you see? Visit the ' +\n",
              "          '<a target=\"_blank\" href=https://colab.research.google.com/notebooks/data_table.ipynb>data table notebook</a>'\n",
              "          + ' to learn more about interactive tables.';\n",
              "        element.innerHTML = '';\n",
              "        dataTable['output_type'] = 'display_data';\n",
              "        await google.colab.output.renderOutput(dataTable, element);\n",
              "        const docLink = document.createElement('div');\n",
              "        docLink.innerHTML = docLinkHtml;\n",
              "        element.appendChild(docLink);\n",
              "      }\n",
              "    </script>\n",
              "  </div>\n",
              "\n",
              "\n",
              "<div id=\"df-36c7ce1d-4d04-4885-b543-992a6186e5b9\">\n",
              "  <button class=\"colab-df-quickchart\" onclick=\"quickchart('df-36c7ce1d-4d04-4885-b543-992a6186e5b9')\"\n",
              "            title=\"Suggest charts\"\n",
              "            style=\"display:none;\">\n",
              "\n",
              "<svg xmlns=\"http://www.w3.org/2000/svg\" height=\"24px\"viewBox=\"0 0 24 24\"\n",
              "     width=\"24px\">\n",
              "    <g>\n",
              "        <path d=\"M19 3H5c-1.1 0-2 .9-2 2v14c0 1.1.9 2 2 2h14c1.1 0 2-.9 2-2V5c0-1.1-.9-2-2-2zM9 17H7v-7h2v7zm4 0h-2V7h2v10zm4 0h-2v-4h2v4z\"/>\n",
              "    </g>\n",
              "</svg>\n",
              "  </button>\n",
              "\n",
              "<style>\n",
              "  .colab-df-quickchart {\n",
              "      --bg-color: #E8F0FE;\n",
              "      --fill-color: #1967D2;\n",
              "      --hover-bg-color: #E2EBFA;\n",
              "      --hover-fill-color: #174EA6;\n",
              "      --disabled-fill-color: #AAA;\n",
              "      --disabled-bg-color: #DDD;\n",
              "  }\n",
              "\n",
              "  [theme=dark] .colab-df-quickchart {\n",
              "      --bg-color: #3B4455;\n",
              "      --fill-color: #D2E3FC;\n",
              "      --hover-bg-color: #434B5C;\n",
              "      --hover-fill-color: #FFFFFF;\n",
              "      --disabled-bg-color: #3B4455;\n",
              "      --disabled-fill-color: #666;\n",
              "  }\n",
              "\n",
              "  .colab-df-quickchart {\n",
              "    background-color: var(--bg-color);\n",
              "    border: none;\n",
              "    border-radius: 50%;\n",
              "    cursor: pointer;\n",
              "    display: none;\n",
              "    fill: var(--fill-color);\n",
              "    height: 32px;\n",
              "    padding: 0;\n",
              "    width: 32px;\n",
              "  }\n",
              "\n",
              "  .colab-df-quickchart:hover {\n",
              "    background-color: var(--hover-bg-color);\n",
              "    box-shadow: 0 1px 2px rgba(60, 64, 67, 0.3), 0 1px 3px 1px rgba(60, 64, 67, 0.15);\n",
              "    fill: var(--button-hover-fill-color);\n",
              "  }\n",
              "\n",
              "  .colab-df-quickchart-complete:disabled,\n",
              "  .colab-df-quickchart-complete:disabled:hover {\n",
              "    background-color: var(--disabled-bg-color);\n",
              "    fill: var(--disabled-fill-color);\n",
              "    box-shadow: none;\n",
              "  }\n",
              "\n",
              "  .colab-df-spinner {\n",
              "    border: 2px solid var(--fill-color);\n",
              "    border-color: transparent;\n",
              "    border-bottom-color: var(--fill-color);\n",
              "    animation:\n",
              "      spin 1s steps(1) infinite;\n",
              "  }\n",
              "\n",
              "  @keyframes spin {\n",
              "    0% {\n",
              "      border-color: transparent;\n",
              "      border-bottom-color: var(--fill-color);\n",
              "      border-left-color: var(--fill-color);\n",
              "    }\n",
              "    20% {\n",
              "      border-color: transparent;\n",
              "      border-left-color: var(--fill-color);\n",
              "      border-top-color: var(--fill-color);\n",
              "    }\n",
              "    30% {\n",
              "      border-color: transparent;\n",
              "      border-left-color: var(--fill-color);\n",
              "      border-top-color: var(--fill-color);\n",
              "      border-right-color: var(--fill-color);\n",
              "    }\n",
              "    40% {\n",
              "      border-color: transparent;\n",
              "      border-right-color: var(--fill-color);\n",
              "      border-top-color: var(--fill-color);\n",
              "    }\n",
              "    60% {\n",
              "      border-color: transparent;\n",
              "      border-right-color: var(--fill-color);\n",
              "    }\n",
              "    80% {\n",
              "      border-color: transparent;\n",
              "      border-right-color: var(--fill-color);\n",
              "      border-bottom-color: var(--fill-color);\n",
              "    }\n",
              "    90% {\n",
              "      border-color: transparent;\n",
              "      border-bottom-color: var(--fill-color);\n",
              "    }\n",
              "  }\n",
              "</style>\n",
              "\n",
              "  <script>\n",
              "    async function quickchart(key) {\n",
              "      const quickchartButtonEl =\n",
              "        document.querySelector('#' + key + ' button');\n",
              "      quickchartButtonEl.disabled = true;  // To prevent multiple clicks.\n",
              "      quickchartButtonEl.classList.add('colab-df-spinner');\n",
              "      try {\n",
              "        const charts = await google.colab.kernel.invokeFunction(\n",
              "            'suggestCharts', [key], {});\n",
              "      } catch (error) {\n",
              "        console.error('Error during call to suggestCharts:', error);\n",
              "      }\n",
              "      quickchartButtonEl.classList.remove('colab-df-spinner');\n",
              "      quickchartButtonEl.classList.add('colab-df-quickchart-complete');\n",
              "    }\n",
              "    (() => {\n",
              "      let quickchartButtonEl =\n",
              "        document.querySelector('#df-36c7ce1d-4d04-4885-b543-992a6186e5b9 button');\n",
              "      quickchartButtonEl.style.display =\n",
              "        google.colab.kernel.accessAllowed ? 'block' : 'none';\n",
              "    })();\n",
              "  </script>\n",
              "</div>\n",
              "\n",
              "    </div>\n",
              "  </div>\n"
            ],
            "application/vnd.google.colaboratory.intrinsic+json": {
              "type": "dataframe",
              "variable_name": "df_test",
              "summary": "{\n  \"name\": \"df_test\",\n  \"rows\": 2234,\n  \"fields\": [\n    {\n      \"column\": \"image_path\",\n      \"properties\": {\n        \"dtype\": \"string\",\n        \"num_unique_values\": 2234,\n        \"samples\": [\n          \"./trafficsigns_dataset_testing/square/laneend/02345_00002.png\",\n          \"./trafficsigns_dataset_testing/triangle/warning/01991_00001.png\",\n          \"./trafficsigns_dataset_testing/triangle/warning/02384_00001.png\"\n        ],\n        \"semantic_type\": \"\",\n        \"description\": \"\"\n      }\n    },\n    {\n      \"column\": \"shape_label\",\n      \"properties\": {\n        \"dtype\": \"number\",\n        \"std\": 1,\n        \"min\": 0,\n        \"max\": 4,\n        \"num_unique_values\": 5,\n        \"samples\": [\n          0,\n          2,\n          3\n        ],\n        \"semantic_type\": \"\",\n        \"description\": \"\"\n      }\n    },\n    {\n      \"column\": \"type_label\",\n      \"properties\": {\n        \"dtype\": \"number\",\n        \"std\": 4,\n        \"min\": 0,\n        \"max\": 15,\n        \"num_unique_values\": 16,\n        \"samples\": [\n          14,\n          15,\n          13\n        ],\n        \"semantic_type\": \"\",\n        \"description\": \"\"\n      }\n    }\n  ]\n}"
            }
          },
          "metadata": {},
          "execution_count": 14
        }
      ]
    },
    {
      "cell_type": "markdown",
      "metadata": {
        "id": "295qd6cnzKJl"
      },
      "source": [
        "## 3. Exploratory Data Analysis (EDA)"
      ]
    },
    {
      "cell_type": "markdown",
      "source": [
        "## 3.1 Visualise sample images according to shape and type"
      ],
      "metadata": {
        "id": "PnQ8TDDSWmls"
      }
    },
    {
      "cell_type": "code",
      "execution_count": 15,
      "metadata": {
        "id": "K39WYqJpYZaW",
        "colab": {
          "base_uri": "https://localhost:8080/",
          "height": 1000
        },
        "outputId": "db40422a-84aa-437c-df59-3a597316e2d6"
      },
      "outputs": [
        {
          "output_type": "display_data",
          "data": {
            "text/plain": [
              "<Figure size 1600x1600 with 16 Axes>"
            ],
            "image/png": "[encoded data removed]"
          },
          "metadata": {}
        }
      ],
      "source": [
        "from matplotlib.pyplot import imread\n",
        "import imageio\n",
        "\n",
        "\n",
        "df['class_combo'] = df[['shape_label', 'type_label']].apply(tuple, axis=1)\n",
        "\n",
        "# Reverse dictionaries to map labels back to names\n",
        "shape_names = {v: k for k, v in trafficsigns_shapes.items()}\n",
        "type_names = {v: k for k, v in trafficsigns_types.items()}\n",
        "\n",
        "# Group by this new combo and pick the first image from each group\n",
        "grouped = df.groupby('class_combo').first().reset_index()\n",
        "\n",
        "# Visualization\n",
        "plt.figure(figsize=(16, 16))\n",
        "for i, row in enumerate(grouped.itertuples(), 1):\n",
        "    plt.subplot(4, 4, i)  # Adjust grid size based on the number of unique class combinations\n",
        "    image_path = os.path.join(os.getcwd(), row.image_path)\n",
        "    image = imread(image_path)\n",
        "    # Look up the shape and type names using the reverse dictionaries\n",
        "    shape_name = shape_names.get(row.shape_label, \"Unknown\")\n",
        "    type_name = type_names.get(row.type_label, \"Unknown\")\n",
        "    plt.imshow(image)\n",
        "    plt.axis('off')\n",
        "    plt.title(f\"Shape: {shape_name} ({row.shape_label}), Type: {type_name} ({row.type_label})\", fontsize=12)\n",
        "\n",
        "plt.tight_layout()\n",
        "plt.show()"
      ]
    },
    {
      "cell_type": "markdown",
      "metadata": {
        "id": "qlgcw2XDkbey"
      },
      "source": [
        "## 3.2 Distribution of the dataset"
      ]
    },
    {
      "cell_type": "code",
      "execution_count": 16,
      "metadata": {
        "id": "pgb1BoecaHH0",
        "colab": {
          "base_uri": "https://localhost:8080/",
          "height": 576
        },
        "outputId": "5dd7b8d9-35cf-4f2c-9085-036c8b0aea61"
      },
      "outputs": [
        {
          "output_type": "stream",
          "name": "stderr",
          "text": [
            "<ipython-input-16-2dc661fc10c5>:20: UserWarning: FixedFormatter should only be used together with FixedLocator\n",
            "  axes[0].set_xticklabels(shape_labels, rotation=45, ha='right')\n",
            "<ipython-input-16-2dc661fc10c5>:29: UserWarning: FixedFormatter should only be used together with FixedLocator\n",
            "  axes[1].set_xticklabels(type_labels, rotation=45, ha='right')\n"
          ]
        },
        {
          "output_type": "display_data",
          "data": {
            "text/plain": [
              "<Figure size 1400x500 with 2 Axes>"
            ],
            "image/png": "[encoded data removed]"
          },
          "metadata": {}
        }
      ],
      "source": [
        "import matplotlib.pyplot as plt\n",
        "\n",
        "\n",
        "# Convert index to label name for shapes\n",
        "shape_labels = [f'{k} ({v})' for k, v in sorted(trafficsigns_shapes.items(), key=lambda item: item[1])]\n",
        "# Convert index to label name for types\n",
        "type_labels = [f'{k} ({v})' for k, v in sorted(trafficsigns_types.items(), key=lambda item: item[1])]\n",
        "\n",
        "# Calculate the count of each class label for shape and type\n",
        "shape_counts = df['shape_label'].value_counts().sort_index()\n",
        "type_counts = df['type_label'].value_counts().sort_index()\n",
        "\n",
        "fig, axes = plt.subplots(nrows=1, ncols=2, figsize=(14, 5))\n",
        "\n",
        "# Bar chart for shape labels\n",
        "axes[0].bar(shape_labels, shape_counts.values, color='#8367c7')\n",
        "axes[0].set_title('Number of Images per Shape Class')\n",
        "axes[0].set_xlabel('Shape Class Label')\n",
        "axes[0].set_ylabel('Number of Images')\n",
        "axes[0].set_xticklabels(shape_labels, rotation=45, ha='right')\n",
        "for index, value in enumerate(shape_counts.values):\n",
        "    axes[0].text(index, value, str(value), ha='center')\n",
        "\n",
        "# Bar chart for type labels\n",
        "axes[1].bar(type_labels, type_counts.values, color='#C2F8CB')\n",
        "axes[1].set_title('Number of Images per Type Class')\n",
        "axes[1].set_xlabel('Type Class Label')\n",
        "axes[1].set_ylabel('Number of Images')\n",
        "axes[1].set_xticklabels(type_labels, rotation=45, ha='right')\n",
        "for index, value in enumerate(type_counts.values):\n",
        "    axes[1].text(index, value, str(value), ha='center')\n",
        "\n",
        "plt.tight_layout()\n",
        "plt.show()\n",
        "\n"
      ]
    },
    {
      "cell_type": "markdown",
      "source": [
        "#### Observations:\n",
        "- Class imbalance: may affect the model performance. Further actions need to be taken to solve it"
      ],
      "metadata": {
        "id": "kA2n6KJYX6aO"
      }
    },
    {
      "cell_type": "markdown",
      "metadata": {
        "id": "CcJRjLnslCn1"
      },
      "source": [
        "## 4. Data Spliting\n",
        "- split offered dataset into 2 parts.\n",
        "- Training set: 80%\n",
        "- Validation set: 20%\n",
        "- Testing set: the additional dataset"
      ]
    },
    {
      "cell_type": "code",
      "execution_count": 17,
      "metadata": {
        "id": "D8xc3T5ilCJZ",
        "colab": {
          "base_uri": "https://localhost:8080/"
        },
        "outputId": "5dd201af-729f-4d92-9a89-59235c1d8cd4"
      },
      "outputs": [
        {
          "output_type": "stream",
          "name": "stdout",
          "text": [
            "Train data : 2959, Val Data: 740, Test Data: 2234\n"
          ]
        }
      ],
      "source": [
        "import pandas as pd\n",
        "from sklearn.model_selection import train_test_split\n",
        "\n",
        "train_data, val_data = train_test_split(df, test_size=0.2, random_state=42)\n",
        "test_data = df_test\n",
        "\n",
        "print(\"Train data : {}, Val Data: {}, Test Data: {}\".format(train_data.shape[0], val_data.shape[0], test_data.shape[0]))\n"
      ]
    },
    {
      "cell_type": "code",
      "execution_count": 18,
      "metadata": {
        "id": "qLffJf7w2uPN",
        "colab": {
          "base_uri": "https://localhost:8080/"
        },
        "outputId": "55ecf737-eb77-4b07-b97c-fa66aa3cfed9"
      },
      "outputs": [
        {
          "output_type": "execute_result",
          "data": {
            "text/plain": [
              "(2959, 4)"
            ]
          },
          "metadata": {},
          "execution_count": 18
        }
      ],
      "source": [
        "train_data.shape"
      ]
    },
    {
      "cell_type": "code",
      "execution_count": 19,
      "metadata": {
        "id": "2MyJqmr_1P-4",
        "colab": {
          "base_uri": "https://localhost:8080/"
        },
        "outputId": "0575d175-cabf-4013-c088-3986fcff3c56"
      },
      "outputs": [
        {
          "output_type": "stream",
          "name": "stdout",
          "text": [
            "Index(['image_path', 'shape_label', 'type_label', 'class_combo'], dtype='object')\n"
          ]
        }
      ],
      "source": [
        "# Print column names to verify\n",
        "print(train_data.columns)\n"
      ]
    },
    {
      "cell_type": "markdown",
      "source": [
        "## Solve Class Imbalance with Data Augmentation (SMOTE--Oversampling)"
      ],
      "metadata": {
        "id": "3fWzJHpqgX1B"
      }
    },
    {
      "cell_type": "markdown",
      "source": [
        "Prepare data"
      ],
      "metadata": {
        "id": "JODiCDbYpNLb"
      }
    },
    {
      "cell_type": "code",
      "source": [
        "X = []\n",
        "\n",
        "# Load all image\n",
        "for img_path in train_data['image_path']:\n",
        "    img = imread(img_path)  # Load image\n",
        "    X.append(img)\n",
        "\n",
        "shape_labels_encoded = train_data['shape_label'].values\n",
        "type_labels_encoded = train_data['type_label'].values\n",
        "\n",
        "# Combine shape and type labels into a single multi-label format\n",
        "combined_labels = np.stack((shape_labels_encoded, type_labels_encoded), axis=1)\n",
        "\n",
        "# Reshape combined_labels to a 1-dimensional array\n",
        "combined_labels_flattened = np.array([f\"{shape}_{type}\" for shape, type in zip(shape_labels_encoded, type_labels_encoded)])\n",
        "\n",
        "# Convert lists to numpy arrays\n",
        "X = np.array(X)\n",
        "original_image_shape = X[0].shape\n",
        "X_reshape = X.reshape(X.shape[0], -1)\n"
      ],
      "metadata": {
        "id": "WtM6PBIlpAJA"
      },
      "execution_count": 20,
      "outputs": []
    },
    {
      "cell_type": "markdown",
      "source": [
        "Initialize SMOTE"
      ],
      "metadata": {
        "id": "6MKwrzslqcaf"
      }
    },
    {
      "cell_type": "code",
      "source": [
        "smote = SMOTE(sampling_strategy='auto', random_state=42)"
      ],
      "metadata": {
        "id": "SXvTfFzhqYMn"
      },
      "execution_count": 21,
      "outputs": []
    },
    {
      "cell_type": "markdown",
      "source": [
        "Oversampling for shape labels"
      ],
      "metadata": {
        "id": "DZhaMm1K4rNI"
      }
    },
    {
      "cell_type": "code",
      "source": [
        "X_resampled_shape, y_resampled_shape = smote.fit_resample(X_reshape, shape_labels_encoded)\n",
        "# X_resampled_shape = X_resampled_shape.reshape(X_resampled_shape.shape[0], *original_image_shape)\n",
        "num_samples = X_resampled_shape.shape[0]\n",
        "height = 28\n",
        "width = 28\n",
        "channels = 1\n",
        "\n",
        "X_resampled_shape_reshaped = X_resampled_shape.reshape(num_samples, height, width, channels)"
      ],
      "metadata": {
        "id": "TWOTSlNL5UZh"
      },
      "execution_count": 22,
      "outputs": []
    },
    {
      "cell_type": "code",
      "source": [
        "def check_oversampling_classes(resampled_label):\n",
        "  unique_classes_resampled, counts_resampled = np.unique(resampled_label, return_counts=True)\n",
        "  print(\"\\nOversampled Class Distribution:\")\n",
        "  for cls, count in zip(unique_classes_resampled, counts_resampled):\n",
        "      print(f\"Class {cls}: {count} samples\")\n",
        "\n",
        "check_oversampling_classes(y_resampled_shape)"
      ],
      "metadata": {
        "colab": {
          "base_uri": "https://localhost:8080/"
        },
        "id": "9_N8inTB6DPk",
        "outputId": "cb7cb47f-524a-43ff-9ec3-cd35436ed934"
      },
      "execution_count": 23,
      "outputs": [
        {
          "output_type": "stream",
          "name": "stdout",
          "text": [
            "\n",
            "Oversampled Class Distribution:\n",
            "Class 0: 1418 samples\n",
            "Class 1: 1418 samples\n",
            "Class 2: 1418 samples\n",
            "Class 3: 1418 samples\n",
            "Class 4: 1418 samples\n"
          ]
        }
      ]
    },
    {
      "cell_type": "markdown",
      "source": [
        "Oversampling for shape and type labels"
      ],
      "metadata": {
        "id": "0akZil_A4eI-"
      }
    },
    {
      "cell_type": "code",
      "source": [
        "X_resampled_shape_type, combined_labels_resampled = smote.fit_resample(X_reshape, combined_labels_flattened)\n",
        "print(X_resampled_shape_type.shape)\n",
        "num_samples = X_resampled_shape_type.shape[0]\n",
        "height = 28\n",
        "width = 28\n",
        "channels = 1\n",
        "X_resampled_shape_type = X_resampled_shape_type.reshape(num_samples, height, width, channels)\n",
        "print(X_resampled_shape_type.shape)\n",
        "shape_labels_resampled, type_labels_resampled = zip(*[label.split('_') for label in combined_labels_resampled])\n",
        "\n",
        "# Convert the recovered labels back to numpy arrays\n",
        "shape_labels_resampled = np.array(shape_labels_resampled)\n",
        "type_labels_resampled = np.array(type_labels_resampled)\n"
      ],
      "metadata": {
        "colab": {
          "base_uri": "https://localhost:8080/"
        },
        "id": "JE7kJgbgqi6v",
        "outputId": "a670e9f7-68a8-42ea-aaaf-460b11a62c56"
      },
      "execution_count": 24,
      "outputs": [
        {
          "output_type": "stream",
          "name": "stdout",
          "text": [
            "(8704, 784)\n",
            "(8704, 28, 28, 1)\n"
          ]
        }
      ]
    },
    {
      "cell_type": "code",
      "source": [
        "print(len(X_resampled_shape_type))\n",
        "print(len(shape_labels_resampled))\n",
        "print(len(type_labels_resampled))"
      ],
      "metadata": {
        "id": "UQ2wDCCoAzHT",
        "outputId": "82381ba4-8690-4b68-e9fd-aa1f48175c3e",
        "colab": {
          "base_uri": "https://localhost:8080/"
        }
      },
      "execution_count": 25,
      "outputs": [
        {
          "output_type": "stream",
          "name": "stdout",
          "text": [
            "8704\n",
            "8704\n",
            "8704\n"
          ]
        }
      ]
    },
    {
      "cell_type": "code",
      "source": [
        "check_oversampling_classes(combined_labels_resampled)"
      ],
      "metadata": {
        "colab": {
          "base_uri": "https://localhost:8080/"
        },
        "id": "mDjTk5rPt2sQ",
        "outputId": "671e55ed-f073-44e8-f9db-70b548650f94"
      },
      "execution_count": 26,
      "outputs": [
        {
          "output_type": "stream",
          "name": "stdout",
          "text": [
            "\n",
            "Oversampled Class Distribution:\n",
            "Class 0_0: 544 samples\n",
            "Class 1_1: 544 samples\n",
            "Class 2_2: 544 samples\n",
            "Class 2_3: 544 samples\n",
            "Class 2_4: 544 samples\n",
            "Class 2_5: 544 samples\n",
            "Class 2_6: 544 samples\n",
            "Class 2_7: 544 samples\n",
            "Class 2_8: 544 samples\n",
            "Class 2_9: 544 samples\n",
            "Class 3_10: 544 samples\n",
            "Class 3_11: 544 samples\n",
            "Class 3_12: 544 samples\n",
            "Class 3_13: 544 samples\n",
            "Class 4_14: 544 samples\n",
            "Class 4_15: 544 samples\n"
          ]
        }
      ]
    },
    {
      "cell_type": "markdown",
      "source": [
        "pass the resampled data into an ImageDataGenerator"
      ],
      "metadata": {
        "id": "r-6xr0pC9Gg0"
      }
    },
    {
      "cell_type": "code",
      "execution_count": 27,
      "metadata": {
        "id": "o4lM9c7l_ttr"
      },
      "outputs": [],
      "source": [
        "# Define augmentation parameters\n",
        "from tensorflow.keras.preprocessing.image import ImageDataGenerator\n",
        "datagen = ImageDataGenerator(rescale=1./255, data_format='channels_last')"
      ]
    },
    {
      "cell_type": "code",
      "source": [
        "# Specify the batch size for generating augmented images\n",
        "batch_size = 32\n",
        "\n",
        "# Create a flow of augmented images and labels for training data\n",
        "train_generator_shape = datagen.flow(\n",
        "    x=X_resampled_shape_reshaped,  # Resampled images\n",
        "    y=y_resampled_shape,  # Resampled labels\n",
        "    batch_size=batch_size,\n",
        "    shuffle=False )\n",
        "train_generator_type = datagen.flow(X_resampled_shape_type, type_labels_resampled, batch_size=batch_size)\n",
        "\n",
        "# Create a DataFrame from label arrays\n",
        "labels_dict = pd.DataFrame({\n",
        "    'output_type': type_labels_resampled,\n",
        "    'output_shape': shape_labels_resampled\n",
        "})\n",
        "\n",
        "\n",
        "train_generator_shape_type = datagen.flow(\n",
        "      X_resampled_shape_type,\n",
        "    labels_dict,\n",
        "    batch_size=batch_size,\n",
        ")"
      ],
      "metadata": {
        "id": "xvDKfcOz9jH8"
      },
      "execution_count": 28,
      "outputs": []
    },
    {
      "cell_type": "markdown",
      "metadata": {
        "id": "rQ0TZSlXay9c"
      },
      "source": [
        "Define a function to plot accuracy between validation data and train data"
      ]
    },
    {
      "cell_type": "code",
      "execution_count": 29,
      "metadata": {
        "id": "ufXRc27Nax9r"
      },
      "outputs": [],
      "source": [
        "def plot_learning_curve(train_loss, val_loss, train_metric, val_metric, metric_name='Accuracy'):\n",
        "    plt.figure(figsize=(10,5))\n",
        "\n",
        "    plt.subplot(1,2,1)\n",
        "    plt.plot(train_loss, 'r--')\n",
        "    plt.plot(val_loss, 'b--')\n",
        "    plt.xlabel(\"epochs\")\n",
        "    plt.ylabel(\"Loss\")\n",
        "    plt.legend(['train', 'val'], loc='upper left')\n",
        "\n",
        "    plt.subplot(1,2,2)\n",
        "    plt.plot(train_metric, 'r--')\n",
        "    plt.plot(val_metric, 'b--')\n",
        "    plt.xlabel(\"epochs\")\n",
        "    plt.ylabel(metric_name)\n",
        "    plt.legend(['train', 'val'], loc='upper left')\n"
      ]
    },
    {
      "cell_type": "markdown",
      "metadata": {
        "id": "F3qVhRNwsIhb"
      },
      "source": [
        "## 5.1 Base Model - MLP Neural Network (for 2 tasks)\n",
        "\n",
        "\n"
      ]
    },
    {
      "cell_type": "markdown",
      "source": [
        "* **What is an MLP?**\n",
        "  - A type of neural network with three or more layers: input, hidden, and output layers.\n",
        "  - Fully connected: Each neuron in one layer connects to every neuron in the next layer.\n",
        "  - Utilizes backpropagation for learning, adjusting weights to minimize output error.\n",
        "* **Why choose an MLP as a baseline model?**\n",
        "  - Simplicity: Easy to implement and requires less setup time.\n",
        "  - Efficiency: Quick to train, providing fast initial results.\n",
        "  - Low Resource Use: Less computationally intensive than more complex models.\n",
        "  - Performance Benchmarking: Provides a reference point for evaluating more advanced models.\n",
        "  - Data Requirements: Performs well with smaller datasets, ideal when large data is unavailable.\n",
        "  - Interpretability: Simple architecture makes it easier to understand and deb"
      ],
      "metadata": {
        "id": "xIUdBHGOcT8k"
      }
    },
    {
      "cell_type": "markdown",
      "metadata": {
        "id": "JnYib-SrtQnx"
      },
      "source": [
        "**Constants**"
      ]
    },
    {
      "cell_type": "code",
      "execution_count": 41,
      "metadata": {
        "id": "oo21UMXtzEMb"
      },
      "outputs": [],
      "source": [
        "# height = 28 pixel, width = 28 pixel\n",
        "INPUT_DIM = (28,28,1)\n",
        "HIDDEN_LAYER_DIM_SHAPE = 128\n",
        "HIDDEN_LAYER_DIM_TYPE = 256\n",
        "OUTPUT_CLASSES_SHAPE = 5  # Number of shape classes\n",
        "OUTPUT_CLASSES_TYPE = 16  # Number of type classes"
      ]
    },
    {
      "cell_type": "markdown",
      "metadata": {
        "id": "Jniq1boyyjx9"
      },
      "source": [
        "#### Install Keras"
      ]
    },
    {
      "cell_type": "markdown",
      "metadata": {
        "id": "xCDoTnlvt0CG"
      },
      "source": [
        "To build an image classifier we make use of Tensorflow‘ s Keras API to build our model"
      ]
    },
    {
      "cell_type": "code",
      "execution_count": 31,
      "metadata": {
        "id": "lLrhfOX6sKLZ",
        "colab": {
          "base_uri": "https://localhost:8080/",
          "height": 35
        },
        "outputId": "b46286a6-3cce-4a56-9c14-3e39467a0058"
      },
      "outputs": [
        {
          "output_type": "execute_result",
          "data": {
            "text/plain": [
              "'2.15.0'"
            ],
            "application/vnd.google.colaboratory.intrinsic+json": {
              "type": "string"
            }
          },
          "metadata": {},
          "execution_count": 31
        }
      ],
      "source": [
        "import tensorflow as tf\n",
        "AUTOTUNE = tf.data.experimental.AUTOTUNE\n",
        "\n",
        "tf.__version__"
      ]
    },
    {
      "cell_type": "markdown",
      "metadata": {
        "id": "gSbX0_T0wqL6"
      },
      "source": [
        "#### Set up the layers\n",
        "We will use the Sequential API to build models as it is the simplest. In a **Sequential** type, each layer takes the output from the previous layer and uses it as its input.\n",
        "**Dense** layers in a neural network mean that every node in one layer is connected to all the nodes in the previous layer."
      ]
    },
    {
      "cell_type": "code",
      "execution_count": 32,
      "metadata": {
        "id": "4xXkaCfqkL5m",
        "colab": {
          "base_uri": "https://localhost:8080/"
        },
        "outputId": "13abd084-e4ac-4547-df0e-5e51ee4a8c81"
      },
      "outputs": [
        {
          "output_type": "stream",
          "name": "stdout",
          "text": [
            "Collecting visualkeras\n",
            "  Downloading visualkeras-0.0.2-py3-none-any.whl (12 kB)\n",
            "Requirement already satisfied: pillow>=6.2.0 in /usr/local/lib/python3.10/dist-packages (from visualkeras) (9.4.0)\n",
            "Requirement already satisfied: numpy>=1.18.1 in /usr/local/lib/python3.10/dist-packages (from visualkeras) (1.25.2)\n",
            "Collecting aggdraw>=1.3.11 (from visualkeras)\n",
            "  Downloading aggdraw-1.3.18.post0-cp310-cp310-manylinux_2_17_x86_64.manylinux2014_x86_64.whl (993 kB)\n",
            "\u001b[2K     \u001b[90m━━━━━━━━━━━━━━━━━━━━━━━━━━━━━━━━━━━━━━━━\u001b[0m \u001b[32m993.8/993.8 kB\u001b[0m \u001b[31m15.3 MB/s\u001b[0m eta \u001b[36m0:00:00\u001b[0m\n",
            "\u001b[?25hInstalling collected packages: aggdraw, visualkeras\n",
            "Successfully installed aggdraw-1.3.18.post0 visualkeras-0.0.2\n"
          ]
        }
      ],
      "source": [
        "!pip install visualkeras"
      ]
    },
    {
      "cell_type": "markdown",
      "metadata": {
        "id": "gM2H0aabmLSF"
      },
      "source": [
        "### **Model1.1 Baseline Model --- Traffic sign shape**"
      ]
    },
    {
      "cell_type": "code",
      "execution_count": 42,
      "metadata": {
        "id": "yVcedo2imQfg"
      },
      "outputs": [],
      "source": [
        "model_shape_1 = tf.keras.Sequential([\n",
        "    tf.keras.layers.Flatten(input_shape=INPUT_DIM),\n",
        "    tf.keras.layers.Dense(units=HIDDEN_LAYER_DIM_SHAPE, activation='relu', name='m1_shape_hidden1'),\n",
        "    tf.keras.layers.Dense(units=64, activation='relu', name='m1_shape_hidden2'),\n",
        "    tf.keras.layers.Dense(units=16, activation='relu', name='m1_shape_hidden3'),\n",
        "    tf.keras.layers.Dense(units=OUTPUT_CLASSES_SHAPE, activation='softmax', name='m1_shape_output')\n",
        "])\n",
        "\n",
        "model_shape_1.compile(optimizer='adam',\n",
        "                loss=tf.keras.losses.CategoricalCrossentropy(from_logits=True),\n",
        "                metrics=['categorical_accuracy'])"
      ]
    },
    {
      "cell_type": "code",
      "execution_count": 43,
      "metadata": {
        "id": "mvP2zbFWni5d",
        "colab": {
          "base_uri": "https://localhost:8080/"
        },
        "outputId": "8e882354-daed-4ec4-dedc-fda23dc34a1e"
      },
      "outputs": [
        {
          "output_type": "stream",
          "name": "stdout",
          "text": [
            "Model: \"sequential_1\"\n",
            "_________________________________________________________________\n",
            " Layer (type)                Output Shape              Param #   \n",
            "=================================================================\n",
            " flatten_1 (Flatten)         (None, 784)               0         \n",
            "                                                                 \n",
            " m1_shape_hidden1 (Dense)    (None, 128)               100480    \n",
            "                                                                 \n",
            " m1_shape_hidden2 (Dense)    (None, 64)                8256      \n",
            "                                                                 \n",
            " m1_shape_hidden3 (Dense)    (None, 16)                1040      \n",
            "                                                                 \n",
            " m1_shape_output (Dense)     (None, 5)                 85        \n",
            "                                                                 \n",
            "=================================================================\n",
            "Total params: 109861 (429.14 KB)\n",
            "Trainable params: 109861 (429.14 KB)\n",
            "Non-trainable params: 0 (0.00 Byte)\n",
            "_________________________________________________________________\n"
          ]
        }
      ],
      "source": [
        "model_shape_1.summary()"
      ]
    },
    {
      "cell_type": "code",
      "execution_count": 35,
      "metadata": {
        "id": "KLfg5bQBwqHB",
        "colab": {
          "base_uri": "https://localhost:8080/",
          "height": 80
        },
        "outputId": "c28affe0-56c6-4e7f-df8d-0471c648a98c"
      },
      "outputs": [
        {
          "output_type": "execute_result",
          "data": {
            "text/plain": [
              "<PIL.Image.Image image mode=RGBA size=257x63>"
            ],
            "image/png": "[encoded data removed]"
          },
          "metadata": {},
          "execution_count": 35
        }
      ],
      "source": [
        "import visualkeras\n",
        "# Generating the image for model architecture\n",
        "visualkeras.layered_view(model_shape_1, scale_xy=2, scale_z=1, max_z=50, legend=True)\n"
      ]
    },
    {
      "cell_type": "code",
      "execution_count": 36,
      "metadata": {
        "id": "BZixOcnBnize",
        "colab": {
          "base_uri": "https://localhost:8080/",
          "height": 644
        },
        "outputId": "d5a9975d-8b51-46a1-d2ec-ade58ab9bbcb"
      },
      "outputs": [
        {
          "output_type": "execute_result",
          "data": {
            "image/png": "[encoded data removed]",
            "text/plain": [
              "<IPython.core.display.Image object>"
            ]
          },
          "metadata": {},
          "execution_count": 36
        }
      ],
      "source": [
        "tf.keras.utils.plot_model(model_shape_1, show_shapes=True)\n"
      ]
    },
    {
      "cell_type": "markdown",
      "metadata": {
        "id": "Lk685sK3oH-I"
      },
      "source": [
        "#### Train the base model for shape\n",
        "- convert the class into string"
      ]
    },
    {
      "cell_type": "code",
      "execution_count": 44,
      "metadata": {
        "id": "wszVKHbEnipD"
      },
      "outputs": [],
      "source": [
        "train_data['shape_label_str'] = train_data['shape_label'].astype('str')\n",
        "val_data['shape_label_str'] = val_data['shape_label'].astype('str')\n",
        "\n",
        "train_data['type_label_str'] = train_data['type_label'].astype('str')\n",
        "val_data['type_label_str'] = val_data['type_label'].astype('str')"
      ]
    },
    {
      "cell_type": "code",
      "execution_count": 45,
      "metadata": {
        "id": "FIvqbCwnniax",
        "colab": {
          "base_uri": "https://localhost:8080/"
        },
        "outputId": "21110af7-1503-43d5-9565-5e2619df7759"
      },
      "outputs": [
        {
          "output_type": "stream",
          "name": "stdout",
          "text": [
            "Found 740 validated image filenames belonging to 5 classes.\n"
          ]
        }
      ],
      "source": [
        "\n",
        "\n",
        "# train_datagen = ImageDataGenerator(rescale=1./255, data_format='channels_last')\n",
        "val_datagen = ImageDataGenerator(rescale=1./255, data_format='channels_last')\n",
        "\n",
        "# batch_size = 128 # increase it to reduce the graph noise\n",
        "\n",
        "# train_generator_shape = train_datagen.flow_from_dataframe(\n",
        "#         dataframe=train_data,\n",
        "#         directory='./',\n",
        "#         x_col=\"image_path\",\n",
        "#         y_col=\"shape_label_str\",\n",
        "#         target_size=(28, 28),\n",
        "#         batch_size=batch_size,\n",
        "#         class_mode='categorical')\n",
        "\n",
        "validation_generator_shape = val_datagen.flow_from_dataframe(\n",
        "        dataframe=val_data,\n",
        "        directory='./',\n",
        "        x_col=\"image_path\",\n",
        "        y_col=\"shape_label_str\",\n",
        "        target_size=(28, 28),\n",
        "        batch_size=batch_size,\n",
        "        class_mode='categorical')"
      ]
    },
    {
      "cell_type": "code",
      "source": [
        "# Iterate over batches from the generator\n",
        "# for i, (X_val_batch, y_val_batch) in enumerate(validation_generator_shape):\n",
        "#     # X_val_batch is a batch of input images (numpy array)\n",
        "#     # y_val_batch is a batch of target labels (numpy array)\n",
        "\n",
        "#     print(f\"Batch {i + 1}:\")\n",
        "#     print(f\"X_val_batch shape: {X_val_batch.shape}\")\n",
        "#     print(f\"X_val_batch: {X_val_batch}\")\n",
        "#     print(f\"y_val_batch shape: {y_val_batch.shape}\")\n",
        "\n",
        "#     # Perform model evaluation or other tasks with the batch data\n",
        "#     # Example: model.evaluate(X_val_batch, y_val_batch)\n",
        "\n",
        "#     # Break loop after a few batches for demonstration\n",
        "#     if i == 2:\n",
        "#         break"
      ],
      "metadata": {
        "id": "2Ar4sv9FWQry"
      },
      "execution_count": 39,
      "outputs": []
    },
    {
      "cell_type": "markdown",
      "metadata": {
        "id": "eC3T4Z4Pc-hk"
      },
      "source": [
        "train the base model for shape"
      ]
    },
    {
      "cell_type": "code",
      "execution_count": 47,
      "metadata": {
        "id": "HKHzYMiSv-g3",
        "colab": {
          "base_uri": "https://localhost:8080/",
          "height": 721
        },
        "outputId": "b04f01a9-917c-4434-d8f1-5f5c81fc4ada"
      },
      "outputs": [
        {
          "output_type": "error",
          "ename": "ValueError",
          "evalue": "in user code:\n\n    File \"/usr/local/lib/python3.10/dist-packages/keras/src/engine/training.py\", line 1401, in train_function  *\n        return step_function(self, iterator)\n    File \"/usr/local/lib/python3.10/dist-packages/keras/src/engine/training.py\", line 1384, in step_function  **\n        outputs = model.distribute_strategy.run(run_step, args=(data,))\n    File \"/usr/local/lib/python3.10/dist-packages/keras/src/engine/training.py\", line 1373, in run_step  **\n        outputs = model.train_step(data)\n    File \"/usr/local/lib/python3.10/dist-packages/keras/src/engine/training.py\", line 1151, in train_step\n        loss = self.compute_loss(x, y, y_pred, sample_weight)\n    File \"/usr/local/lib/python3.10/dist-packages/keras/src/engine/training.py\", line 1209, in compute_loss\n        return self.compiled_loss(\n    File \"/usr/local/lib/python3.10/dist-packages/keras/src/engine/compile_utils.py\", line 277, in __call__\n        loss_value = loss_obj(y_t, y_p, sample_weight=sw)\n    File \"/usr/local/lib/python3.10/dist-packages/keras/src/losses.py\", line 143, in __call__\n        losses = call_fn(y_true, y_pred)\n    File \"/usr/local/lib/python3.10/dist-packages/keras/src/losses.py\", line 270, in call  **\n        return ag_fn(y_true, y_pred, **self._fn_kwargs)\n    File \"/usr/local/lib/python3.10/dist-packages/keras/src/losses.py\", line 2221, in categorical_crossentropy\n        return backend.categorical_crossentropy(\n    File \"/usr/local/lib/python3.10/dist-packages/keras/src/backend.py\", line 5573, in categorical_crossentropy\n        target.shape.assert_is_compatible_with(output.shape)\n\n    ValueError: Shapes (None, 1) and (None, 5) are incompatible\n",
          "traceback": [
            "\u001b[0;31m---------------------------------------------------------------------------\u001b[0m",
            "\u001b[0;31mValueError\u001b[0m                                Traceback (most recent call last)",
            "\u001b[0;32m<ipython-input-47-142cafaf4247>\u001b[0m in \u001b[0;36m<cell line: 4>\u001b[0;34m()\u001b[0m\n\u001b[1;32m      2\u001b[0m \u001b[0;34m\u001b[0m\u001b[0m\n\u001b[1;32m      3\u001b[0m \u001b[0mhistory_1_shape\u001b[0m \u001b[0;34m=\u001b[0m \u001b[0mHistory\u001b[0m\u001b[0;34m(\u001b[0m\u001b[0;34m)\u001b[0m \u001b[0;31m# Reset the history object\u001b[0m\u001b[0;34m\u001b[0m\u001b[0;34m\u001b[0m\u001b[0m\n\u001b[0;32m----> 4\u001b[0;31m \u001b[0mhistory_1_shape\u001b[0m \u001b[0;34m=\u001b[0m \u001b[0mmodel_shape_1\u001b[0m\u001b[0;34m.\u001b[0m\u001b[0mfit\u001b[0m\u001b[0;34m(\u001b[0m\u001b[0mtrain_generator_shape\u001b[0m\u001b[0;34m,\u001b[0m \u001b[0mvalidation_data\u001b[0m \u001b[0;34m=\u001b[0m \u001b[0mvalidation_generator_shape\u001b[0m\u001b[0;34m,\u001b[0m \u001b[0mepochs\u001b[0m\u001b[0;34m=\u001b[0m\u001b[0;36m50\u001b[0m\u001b[0;34m,\u001b[0m \u001b[0mverbose\u001b[0m\u001b[0;34m=\u001b[0m\u001b[0;36m0\u001b[0m\u001b[0;34m)\u001b[0m\u001b[0;34m\u001b[0m\u001b[0;34m\u001b[0m\u001b[0m\n\u001b[0m",
            "\u001b[0;32m/usr/local/lib/python3.10/dist-packages/keras/src/utils/traceback_utils.py\u001b[0m in \u001b[0;36merror_handler\u001b[0;34m(*args, **kwargs)\u001b[0m\n\u001b[1;32m     68\u001b[0m             \u001b[0;31m# To get the full stack trace, call:\u001b[0m\u001b[0;34m\u001b[0m\u001b[0;34m\u001b[0m\u001b[0m\n\u001b[1;32m     69\u001b[0m             \u001b[0;31m# `tf.debugging.disable_traceback_filtering()`\u001b[0m\u001b[0;34m\u001b[0m\u001b[0;34m\u001b[0m\u001b[0m\n\u001b[0;32m---> 70\u001b[0;31m             \u001b[0;32mraise\u001b[0m \u001b[0me\u001b[0m\u001b[0;34m.\u001b[0m\u001b[0mwith_traceback\u001b[0m\u001b[0;34m(\u001b[0m\u001b[0mfiltered_tb\u001b[0m\u001b[0;34m)\u001b[0m \u001b[0;32mfrom\u001b[0m \u001b[0;32mNone\u001b[0m\u001b[0;34m\u001b[0m\u001b[0;34m\u001b[0m\u001b[0m\n\u001b[0m\u001b[1;32m     71\u001b[0m         \u001b[0;32mfinally\u001b[0m\u001b[0;34m:\u001b[0m\u001b[0;34m\u001b[0m\u001b[0;34m\u001b[0m\u001b[0m\n\u001b[1;32m     72\u001b[0m             \u001b[0;32mdel\u001b[0m \u001b[0mfiltered_tb\u001b[0m\u001b[0;34m\u001b[0m\u001b[0;34m\u001b[0m\u001b[0m\n",
            "\u001b[0;32m/usr/local/lib/python3.10/dist-packages/keras/src/engine/training.py\u001b[0m in \u001b[0;36mtf__train_function\u001b[0;34m(iterator)\u001b[0m\n\u001b[1;32m     13\u001b[0m                 \u001b[0;32mtry\u001b[0m\u001b[0;34m:\u001b[0m\u001b[0;34m\u001b[0m\u001b[0;34m\u001b[0m\u001b[0m\n\u001b[1;32m     14\u001b[0m                     \u001b[0mdo_return\u001b[0m \u001b[0;34m=\u001b[0m \u001b[0;32mTrue\u001b[0m\u001b[0;34m\u001b[0m\u001b[0;34m\u001b[0m\u001b[0m\n\u001b[0;32m---> 15\u001b[0;31m                     \u001b[0mretval_\u001b[0m \u001b[0;34m=\u001b[0m \u001b[0mag__\u001b[0m\u001b[0;34m.\u001b[0m\u001b[0mconverted_call\u001b[0m\u001b[0;34m(\u001b[0m\u001b[0mag__\u001b[0m\u001b[0;34m.\u001b[0m\u001b[0mld\u001b[0m\u001b[0;34m(\u001b[0m\u001b[0mstep_function\u001b[0m\u001b[0;34m)\u001b[0m\u001b[0;34m,\u001b[0m \u001b[0;34m(\u001b[0m\u001b[0mag__\u001b[0m\u001b[0;34m.\u001b[0m\u001b[0mld\u001b[0m\u001b[0;34m(\u001b[0m\u001b[0mself\u001b[0m\u001b[0;34m)\u001b[0m\u001b[0;34m,\u001b[0m \u001b[0mag__\u001b[0m\u001b[0;34m.\u001b[0m\u001b[0mld\u001b[0m\u001b[0;34m(\u001b[0m\u001b[0miterator\u001b[0m\u001b[0;34m)\u001b[0m\u001b[0;34m)\u001b[0m\u001b[0;34m,\u001b[0m \u001b[0;32mNone\u001b[0m\u001b[0;34m,\u001b[0m \u001b[0mfscope\u001b[0m\u001b[0;34m)\u001b[0m\u001b[0;34m\u001b[0m\u001b[0;34m\u001b[0m\u001b[0m\n\u001b[0m\u001b[1;32m     16\u001b[0m                 \u001b[0;32mexcept\u001b[0m\u001b[0;34m:\u001b[0m\u001b[0;34m\u001b[0m\u001b[0;34m\u001b[0m\u001b[0m\n\u001b[1;32m     17\u001b[0m                     \u001b[0mdo_return\u001b[0m \u001b[0;34m=\u001b[0m \u001b[0;32mFalse\u001b[0m\u001b[0;34m\u001b[0m\u001b[0;34m\u001b[0m\u001b[0m\n",
            "\u001b[0;31mValueError\u001b[0m: in user code:\n\n    File \"/usr/local/lib/python3.10/dist-packages/keras/src/engine/training.py\", line 1401, in train_function  *\n        return step_function(self, iterator)\n    File \"/usr/local/lib/python3.10/dist-packages/keras/src/engine/training.py\", line 1384, in step_function  **\n        outputs = model.distribute_strategy.run(run_step, args=(data,))\n    File \"/usr/local/lib/python3.10/dist-packages/keras/src/engine/training.py\", line 1373, in run_step  **\n        outputs = model.train_step(data)\n    File \"/usr/local/lib/python3.10/dist-packages/keras/src/engine/training.py\", line 1151, in train_step\n        loss = self.compute_loss(x, y, y_pred, sample_weight)\n    File \"/usr/local/lib/python3.10/dist-packages/keras/src/engine/training.py\", line 1209, in compute_loss\n        return self.compiled_loss(\n    File \"/usr/local/lib/python3.10/dist-packages/keras/src/engine/compile_utils.py\", line 277, in __call__\n        loss_value = loss_obj(y_t, y_p, sample_weight=sw)\n    File \"/usr/local/lib/python3.10/dist-packages/keras/src/losses.py\", line 143, in __call__\n        losses = call_fn(y_true, y_pred)\n    File \"/usr/local/lib/python3.10/dist-packages/keras/src/losses.py\", line 270, in call  **\n        return ag_fn(y_true, y_pred, **self._fn_kwargs)\n    File \"/usr/local/lib/python3.10/dist-packages/keras/src/losses.py\", line 2221, in categorical_crossentropy\n        return backend.categorical_crossentropy(\n    File \"/usr/local/lib/python3.10/dist-packages/keras/src/backend.py\", line 5573, in categorical_crossentropy\n        target.shape.assert_is_compatible_with(output.shape)\n\n    ValueError: Shapes (None, 1) and (None, 5) are incompatible\n"
          ]
        }
      ],
      "source": [
        "from keras.callbacks import History\n",
        "\n",
        "history_1_shape = History() # Reset the history object\n",
        "history_1_shape = model_shape_1.fit(train_generator_shape, validation_data = validation_generator_shape, epochs=50, verbose=0)"
      ]
    },
    {
      "cell_type": "code",
      "execution_count": null,
      "metadata": {
        "id": "y1FgW_w8xXe5"
      },
      "outputs": [],
      "source": [
        "plot_learning_curve(history_1_shape.history['loss'], history_1_shape.history['val_loss'],\n",
        "                    history_1_shape.history['categorical_accuracy'], history_1_shape.history['val_categorical_accuracy'],\n",
        "                    metric_name='Accuracy')"
      ]
    },
    {
      "cell_type": "markdown",
      "source": [
        "#### Function to plot **Confusion Matrix**"
      ],
      "metadata": {
        "id": "fkbbledJeRTU"
      }
    },
    {
      "cell_type": "code",
      "source": [
        "def plot_confusion_matrix(model, test_image_generator, y_set, nr_classes, label_names):\n",
        "  filenames = test_image_generator.filenames\n",
        "  nb_samples = len(filenames)\n",
        "\n",
        "  predictions = np.argmax(model.predict(test_image_generator, steps = nb_samples), axis=1)\n",
        "  f1score = f1_score(y_set, predictions, average='weighted')\n",
        "  print(f\"F1 Score: {f1score:.2f}\")\n",
        "  accuracy = np.mean(predictions == y_set) * 100\n",
        "  print(f\"Accuracy: {accuracy:.2f}%\")\n",
        "  conf_matrix = confusion_matrix(y_set, predictions)\n",
        "\n",
        "  nr_rows = conf_matrix.shape[0]\n",
        "  nr_cols = conf_matrix.shape[1]\n",
        "  plt.figure(figsize=(7,7), dpi=150)\n",
        "  plt.imshow(conf_matrix, cmap=plt.cm.Greens)\n",
        "\n",
        "  plt.title('Confusion Matrix', fontsize=16)\n",
        "  plt.ylabel('Actual Labels', fontsize=12)\n",
        "  plt.xlabel('Predicted Labels', fontsize=12)\n",
        "\n",
        "  tick_marks = np.arange(nr_classes)\n",
        "  plt.yticks(tick_marks, label_names)\n",
        "  plt.xticks(tick_marks, label_names, rotation=45, ha='right')\n",
        "\n",
        "  plt.colorbar()\n",
        "\n",
        "  for i, j in itertools.product(range(nr_rows), range(nr_cols)):\n",
        "    plt.text(j, i, conf_matrix[i, j], horizontalalignment='center', color='white' if conf_matrix[i, j] > conf_matrix.max()/2 else 'black')\n",
        "\n",
        "  plt.show()\n"
      ],
      "metadata": {
        "id": "JuDqVmDReQm9"
      },
      "execution_count": null,
      "outputs": []
    },
    {
      "cell_type": "markdown",
      "source": [
        "### use test data plot confusion matrix"
      ],
      "metadata": {
        "id": "qMVIBIqfmI3R"
      }
    },
    {
      "cell_type": "code",
      "source": [
        "test_data['shape_label_str'] = test_data['shape_label'].astype('str')"
      ],
      "metadata": {
        "id": "elFWHpHImtFa"
      },
      "execution_count": null,
      "outputs": []
    },
    {
      "cell_type": "code",
      "source": [
        "test_datagen = ImageDataGenerator(rescale=1./255)\n",
        "test_generator_shape = test_datagen.flow_from_dataframe(\n",
        "        dataframe=test_data,\n",
        "        directory='./',\n",
        "        x_col=\"image_path\",\n",
        "        y_col=\"shape_label_str\",\n",
        "        target_size=(28, 28),\n",
        "        batch_size=1,\n",
        "        shuffle = False,   # ********* this part is very important for testing\n",
        "        class_mode='categorical')\n",
        "\n",
        "\n",
        "\n"
      ],
      "metadata": {
        "id": "xFmtUGyxltZz"
      },
      "execution_count": null,
      "outputs": []
    },
    {
      "cell_type": "code",
      "source": [
        "model_shape_1.evaluate(test_generator_shape)"
      ],
      "metadata": {
        "id": "mTSLiUHKrzPP"
      },
      "execution_count": null,
      "outputs": []
    },
    {
      "cell_type": "code",
      "source": [
        "plot_confusion_matrix(model_shape_1, test_generator_shape, test_data['shape_label'], OUTPUT_CLASSES_SHAPE, shape_labels)"
      ],
      "metadata": {
        "id": "BuldviISmIit"
      },
      "execution_count": null,
      "outputs": []
    },
    {
      "cell_type": "markdown",
      "metadata": {
        "id": "CNX5grJIySXJ"
      },
      "source": [
        "### **Model1.2 Baseline Model --- traffic sign type**"
      ]
    },
    {
      "cell_type": "code",
      "execution_count": null,
      "metadata": {
        "id": "d1lCs3ChyRpM"
      },
      "outputs": [],
      "source": [
        "model_type_1 = tf.keras.Sequential([\n",
        "    tf.keras.layers.Flatten(input_shape=INPUT_DIM),\n",
        "    tf.keras.layers.Dense(units=HIDDEN_LAYER_DIM_TYPE, activation='relu', name='m1_type_hidden1'),\n",
        "    tf.keras.layers.Dense(units=128, activation='relu', name='m1_type_hidden2'),\n",
        "    tf.keras.layers.Dense(units=64, activation='relu', name='m1_type_hidden3'),\n",
        "    tf.keras.layers.Dense(units=OUTPUT_CLASSES_TYPE, activation='softmax', name='m1_output')\n",
        "])\n",
        "\n",
        "model_type_1.compile(optimizer='adam',\n",
        "                loss=tf.keras.losses.CategoricalCrossentropy(from_logits=True),\n",
        "                metrics=['categorical_accuracy'])"
      ]
    },
    {
      "cell_type": "code",
      "execution_count": null,
      "metadata": {
        "id": "V2dXN_hvxxv3"
      },
      "outputs": [],
      "source": [
        "model_type_1.summary()"
      ]
    },
    {
      "cell_type": "code",
      "execution_count": null,
      "metadata": {
        "id": "l1VvgT-Www6L"
      },
      "outputs": [],
      "source": [
        "# Generating the image for model architecture\n",
        "visualkeras.layered_view(model_type_1, scale_xy=2, scale_z=1, max_z=50, legend=True)"
      ]
    },
    {
      "cell_type": "code",
      "execution_count": null,
      "metadata": {
        "id": "C_KtUgGOyrBp"
      },
      "outputs": [],
      "source": [
        "tf.keras.utils.plot_model(model_type_1, show_shapes=True)"
      ]
    },
    {
      "cell_type": "code",
      "execution_count": null,
      "metadata": {
        "id": "afd86yZPxqEt"
      },
      "outputs": [],
      "source": [
        "train_generator_type = train_datagen.flow_from_dataframe(\n",
        "        dataframe=train_data,\n",
        "        directory='./',\n",
        "        x_col=\"image_path\",\n",
        "        y_col=\"type_label_str\",\n",
        "        target_size=(28, 28),\n",
        "        batch_size=batch_size,\n",
        "        class_mode='categorical')\n",
        "\n",
        "validation_generator_type = val_datagen.flow_from_dataframe(\n",
        "        dataframe=val_data,\n",
        "        directory='./',\n",
        "        x_col=\"image_path\",\n",
        "        y_col=\"type_label_str\",\n",
        "        target_size=(28, 28),\n",
        "        batch_size=batch_size,\n",
        "        class_mode='categorical')"
      ]
    },
    {
      "cell_type": "markdown",
      "metadata": {
        "id": "h7_zFMgux9yR"
      },
      "source": [
        "### train the base model (type)"
      ]
    },
    {
      "cell_type": "code",
      "execution_count": null,
      "metadata": {
        "id": "qK1qx6hRx49x"
      },
      "outputs": [],
      "source": [
        "# %%time\n",
        "history_1_type = model_type_1.fit(train_generator_type, validation_data = validation_generator_type, epochs=50, verbose=0)"
      ]
    },
    {
      "cell_type": "code",
      "execution_count": null,
      "metadata": {
        "id": "PcMou-29zZ9n"
      },
      "outputs": [],
      "source": [
        "plot_learning_curve(history_1_type.history['loss'], history_1_type.history['val_loss'],\n",
        "                    history_1_type.history['categorical_accuracy'], history_1_type.history['val_categorical_accuracy'],\n",
        "                    metric_name='Accuracy')"
      ]
    },
    {
      "cell_type": "markdown",
      "metadata": {
        "id": "hvfxl9LL3llX"
      },
      "source": [
        "**Findings**\n",
        "- the accuracy is too high. That may be because that the current dataset only has 3699 samples in total\n"
      ]
    },
    {
      "cell_type": "markdown",
      "metadata": {
        "id": "7KzHvO-Ohkj-"
      },
      "source": [
        "## Data Augmentation\n",
        "- Data augmentation can apply to images dataset to increase the size of whole dataset (by using transaction, rotations, zomming etc.)\n"
      ]
    },
    {
      "cell_type": "markdown",
      "metadata": {
        "id": "mDgRaaRBheCA"
      },
      "source": [
        "The ImageDataGenerator module in Keras enhances dataset diversity through transformations such as shifts, zoom, shear, and rotation. This augmentation improves model robustness and reduces overfitting by simulating real-world variations."
      ]
    },
    {
      "cell_type": "markdown",
      "metadata": {
        "id": "5x6pczFlTZRA"
      },
      "source": [
        "Apply the data augmentation into train and validation dataset"
      ]
    },
    {
      "cell_type": "code",
      "execution_count": null,
      "metadata": {
        "id": "TkyBWym4QZRW"
      },
      "outputs": [],
      "source": [
        "train_generator_shape_aug = datagen.flow_from_dataframe(\n",
        "        dataframe=train_data,\n",
        "        directory='./',\n",
        "        x_col=\"image_path\",\n",
        "        y_col=\"shape_label_str\",\n",
        "        target_size=(28, 28),\n",
        "        batch_size=batch_size,\n",
        "        class_mode='categorical')\n",
        "\n",
        "validation_generator_shape_aug = datagen.flow_from_dataframe(\n",
        "        dataframe=val_data,\n",
        "        directory='./',\n",
        "        x_col=\"image_path\",\n",
        "        y_col=\"shape_label_str\",\n",
        "        target_size=(28, 28),\n",
        "        batch_size=batch_size,\n",
        "        class_mode='categorical')"
      ]
    },
    {
      "cell_type": "code",
      "execution_count": null,
      "metadata": {
        "id": "Icuq6TuGTFZY"
      },
      "outputs": [],
      "source": [
        "train_generator_type_aug = datagen.flow_from_dataframe(\n",
        "        dataframe=train_data,\n",
        "        directory='./',\n",
        "        x_col=\"image_path\",\n",
        "        y_col=\"type_label_str\",\n",
        "        target_size=(28, 28),\n",
        "        batch_size=batch_size,\n",
        "        class_mode='categorical')\n",
        "\n",
        "validation_generator_type_aug = datagen.flow_from_dataframe(\n",
        "        dataframe=val_data,\n",
        "        directory='./',\n",
        "        x_col=\"image_path\",\n",
        "        y_col=\"type_label_str\",\n",
        "        target_size=(28, 28),\n",
        "        batch_size=batch_size,\n",
        "        class_mode='categorical')"
      ]
    },
    {
      "cell_type": "markdown",
      "metadata": {
        "id": "Q9kBduieGy4b"
      },
      "source": [
        "#### Test the data with created models"
      ]
    },
    {
      "cell_type": "code",
      "execution_count": null,
      "metadata": {
        "id": "_ipyZBf8GxCK"
      },
      "outputs": [],
      "source": [
        "# %%time\n",
        "history_1_shape_augment = model_shape_1.fit_generator(train_generator_shape_aug, validation_data = validation_generator_shape_aug, epochs=50, verbose=0)"
      ]
    },
    {
      "cell_type": "code",
      "execution_count": null,
      "metadata": {
        "id": "jnNd6MQfCbdI"
      },
      "outputs": [],
      "source": [
        "plot_learning_curve(history_1_shape_augment.history['loss'], history_1_shape_augment.history['val_loss'],\n",
        "                    history_1_shape_augment.history['categorical_accuracy'], history_1_shape_augment.history['val_categorical_accuracy'],\n",
        "                    metric_name='Accuracy')"
      ]
    },
    {
      "cell_type": "code",
      "execution_count": null,
      "metadata": {
        "id": "a_5UIWpDEbjB"
      },
      "outputs": [],
      "source": [
        "# %%time\n",
        "history_1_type_augment = model_type_1.fit_generator(train_generator_type_aug, validation_data = validation_generator_type_aug, epochs=50, verbose=0)"
      ]
    },
    {
      "cell_type": "code",
      "execution_count": null,
      "metadata": {
        "id": "CbeACfXKJoB6"
      },
      "outputs": [],
      "source": [
        "plot_learning_curve(history_1_type_augment.history['loss'], history_1_type_augment.history['val_loss'],\n",
        "                    history_1_type_augment.history['categorical_accuracy'], history_1_type_augment.history['val_categorical_accuracy'],\n",
        "                    metric_name='Accuracy')"
      ]
    },
    {
      "cell_type": "code",
      "execution_count": null,
      "metadata": {
        "id": "BX6PW_Qzp_OF"
      },
      "outputs": [],
      "source": [
        "# import matplotlib.pyplot as plt\n",
        "# import numpy as np\n",
        "\n",
        "# # Fetch an original image from the dataset\n",
        "# original_images, _ = next(train_generator)  # Reset to get the first image consistently\n",
        "# original_image = original_images[0]\n",
        "\n",
        "# # Create separate generators for each specific augmentation to control and demonstrate each one\n",
        "# augmentations = {\n",
        "#     'Rotation (40°)': ImageDataGenerator(rotation_range=40),\n",
        "#     'Width Shift (20%)': ImageDataGenerator(width_shift_range=0.2),\n",
        "#     'Height Shift (20%)': ImageDataGenerator(height_shift_range=0.2),\n",
        "#     'Shear (20%)': ImageDataGenerator(shear_range=0.2),\n",
        "#     'Zoom (20%)': ImageDataGenerator(zoom_range=0.2),\n",
        "#     'Horizontal Flip': ImageDataGenerator(horizontal_flip=True)\n",
        "# }\n",
        "\n",
        "# # Display the original image and each augmentation\n",
        "# fig, axes = plt.subplots(1, len(augmentations) + 1, figsize=(20, 3))\n",
        "# axes = axes.flatten()\n",
        "\n",
        "# # Show the original image first\n",
        "# axes[0].imshow(original_image)\n",
        "# axes[0].axis('off')\n",
        "# axes[0].set_title('Original Image')\n",
        "\n",
        "# # Apply each augmentation and display the result\n",
        "# for i, (desc, gen) in enumerate(augmentations.items(), start=1):\n",
        "#     # Generate augmented image\n",
        "#     # Must expand dimension of original_image to fit the generator input requirement\n",
        "#     aug_image = gen.flow(np.expand_dims(original_image, 0), batch_size=1).next()[0]\n",
        "#     axes[i].imshow(aug_image)\n",
        "#     axes[i].axis('off')\n",
        "#     axes[i].set_title(desc)\n",
        "\n",
        "# plt.tight_layout()\n",
        "# plt.show()"
      ]
    },
    {
      "cell_type": "markdown",
      "metadata": {
        "id": "l58jHeIVnddC"
      },
      "source": [
        "# Model1.3 Combined Model using MLP NN"
      ]
    },
    {
      "cell_type": "markdown",
      "metadata": {
        "id": "9dduNw_etvSg"
      },
      "source": [
        "This model is designed to take a 28x28 RGB image as input and predict two attributes of traffic signs simultaneously: their shape (among 5 categories) and type (among 16 categories). It utilizes shared layers for feature extraction and diverges into two separate paths for different classification tasks, enabling efficient learning of distinct yet related outputs."
      ]
    },
    {
      "cell_type": "code",
      "source": [
        "# height = 28 pixel, width = 28 pixel\n",
        "INPUT_DIM = (28,28,3)\n",
        "HIDDEN_LAYER_DIM = 128\n",
        "OUTPUT_CLASSES_SHAPE = 5  # Number of shape classes\n",
        "OUTPUT_CLASSES_TYPE = 16  # Number of type classes"
      ],
      "metadata": {
        "id": "5SswhultjHjf"
      },
      "execution_count": null,
      "outputs": []
    },
    {
      "cell_type": "code",
      "execution_count": null,
      "metadata": {
        "id": "hG4PgS5XzmNB"
      },
      "outputs": [],
      "source": [
        "import visualkeras\n",
        "model = tf.keras.Sequential([\n",
        "    # Flatten the input to a 1D array\n",
        "    tf.keras.layers.Flatten(input_shape=INPUT_DIM),\n",
        "    # Dense layer with 256 neurons using sigmoid activation\n",
        "    tf.keras.layers.Dense(HIDDEN_LAYER_DIM, activation='sigmoid'),\n",
        "    # Add a dropout layer for regularization\n",
        "    tf.keras.layers.Dropout(0.5),\n",
        "    # Since we need two outputs, we can't directly use a single dense layer as the output layer.\n",
        "    # We need a way to split the network here into two paths, each tailored to our class sizes.\n",
        "    # For this, we will expand the model beyond the Sequential model capabilities.\n",
        "])\n",
        "\n",
        "# Adding two separate output layers\n",
        "shape_output = tf.keras.layers.Dense(OUTPUT_CLASSES_SHAPE, activation='softmax', name='shape_output')(model.output)\n",
        "type_output = tf.keras.layers.Dense(OUTPUT_CLASSES_TYPE, activation='softmax', name='type_output')(model.output)\n",
        "\n",
        "# Creating a new model that includes both outputs\n",
        "final_model = tf.keras.Model(inputs=model.input, outputs=[shape_output, type_output])"
      ]
    },
    {
      "cell_type": "code",
      "execution_count": null,
      "metadata": {
        "id": "4U85Dl6ukVko"
      },
      "outputs": [],
      "source": [
        "# Generating the image for model architecture\n",
        "visualkeras.layered_view(final_model, scale_xy=2, scale_z=1, max_z=50, legend=True)\n"
      ]
    },
    {
      "cell_type": "markdown",
      "metadata": {
        "id": "fwaAxcHso6i3"
      },
      "source": [
        "* The initial layer in this network, **tf.keras.layers.Flatten**, converts the images from a two-dimensional array (28 by 28 pixels) into a one-dimensional array, totaling 2352 pixels (28 * 28 * 3)\n",
        "* Following the flattening process, the network employs a **tf.keras.layers.Dense layer**, which contains 256 neurons and utilises sigmoid activation. This fully connected layer is capable of learning intricate patterns from the flattened input data.\n",
        "* To enhance the model's generalisation capabilities and prevent overfitting, a **tf.keras.layers.Dropout** is incorporated next, setting approximately 50% of the neuron outputs to zero during training at random.\n",
        "* **Multi-output model**:\n",
        "the model diverges from a traditional sequential setup to accommodate dual outputs for classifying image data into multiple categories. At the end of the network:\n",
        "  - Shape Output: A dense layer with softmax activation predicts among 5 shape classes.\n",
        "  - Type Output: Another dense layer with softmax activation predicts among 16 type classes.\n",
        "\n",
        "* The final structure, final_model, integrates these outputs into one framework, enabling simultaneous prediction of both shape and type of traffic signs from single images."
      ]
    },
    {
      "cell_type": "code",
      "execution_count": null,
      "metadata": {
        "id": "1tXBGtlIcxOe"
      },
      "outputs": [],
      "source": [
        "final_model.summary()"
      ]
    },
    {
      "cell_type": "code",
      "execution_count": null,
      "metadata": {
        "id": "0qEiByA7c2st"
      },
      "outputs": [],
      "source": [
        "tf.keras.utils.plot_model(final_model, show_shapes=True)"
      ]
    },
    {
      "cell_type": "markdown",
      "metadata": {
        "id": "psvajPFOdfYB"
      },
      "source": [
        "### Compile the model"
      ]
    },
    {
      "cell_type": "code",
      "execution_count": null,
      "metadata": {
        "id": "UPz2wvIoziwT"
      },
      "outputs": [],
      "source": [
        "# Compile the model\n",
        "final_model.compile(optimizer='adam',\n",
        "                    loss={'shape_output': 'sparse_categorical_crossentropy',\n",
        "                          'type_output': 'sparse_categorical_crossentropy'},\n",
        "                    metrics=['accuracy'])"
      ]
    },
    {
      "cell_type": "markdown",
      "metadata": {
        "id": "5YaUo1vYzRVi"
      },
      "source": [
        "- We use ‘Adam’ optimiser because it is very efficient and needs low-memory (fast speed).\n",
        "- **sparse_categorical_crossentropy:** we use this loss function because our class labels for both shape and type are provided as integers (e.g., [0, 1, 2, 3, 4] for shapes and [0, 1, ..., 15] for types). It is used when the classes are encoded as integers, which is more memory efficient, especially for scenarios where the number of classes is quite large."
      ]
    },
    {
      "cell_type": "markdown",
      "metadata": {
        "id": "8N4XbN2idkQz"
      },
      "source": [
        "### Train the model"
      ]
    },
    {
      "cell_type": "markdown",
      "metadata": {
        "id": "TjZ3AYJJglb5"
      },
      "source": [
        "Convert labels to be in string format for ImageDataGenerator"
      ]
    },
    {
      "cell_type": "code",
      "execution_count": null,
      "metadata": {
        "id": "5vHYDtXv0k-w"
      },
      "outputs": [],
      "source": [
        "# Apply the 'assign_class_label' function to assign shape and type labels\n",
        "train_data['Shape'], train_data['Type'] = zip(*train_data['image_path'].apply(assign_class_label))\n",
        "val_data['Shape'], val_data['Type'] = zip(*val_data['image_path'].apply(assign_class_label))\n",
        "\n",
        "# Convert classes to strings if not already\n",
        "train_data['Shape'] = train_data['Shape'].astype('str')\n",
        "train_data['Type'] = train_data['Type'].astype('str')\n",
        "val_data['Shape'] = val_data['Shape'].astype('str')\n",
        "val_data['Type'] = val_data['Type'].astype('str')"
      ]
    },
    {
      "cell_type": "code",
      "execution_count": null,
      "metadata": {
        "id": "q4-Qm6Y-4tYb"
      },
      "outputs": [],
      "source": [
        "from sklearn.preprocessing import LabelEncoder\n",
        "\n",
        "# Encode Shape and Type labels\n",
        "shape_encoder = LabelEncoder()\n",
        "type_encoder = LabelEncoder()\n",
        "\n",
        "train_data['Shape'] = shape_encoder.fit_transform(train_data['Shape'])\n",
        "val_data['Shape'] = shape_encoder.transform(val_data['Shape'])\n",
        "\n",
        "train_data['Type'] = type_encoder.fit_transform(train_data['Type'])\n",
        "val_data['Type'] = type_encoder.transform(val_data['Type'])\n"
      ]
    },
    {
      "cell_type": "code",
      "execution_count": null,
      "metadata": {
        "id": "9Xvh1QMdG8Pf"
      },
      "outputs": [],
      "source": [
        "from tensorflow.keras.preprocessing.image import ImageDataGenerator\n",
        "\n",
        "# Data generators\n",
        "train_datagen = ImageDataGenerator(rescale=1./255, data_format='channels_last')\n",
        "val_datagen = ImageDataGenerator(rescale=1./255, data_format='channels_last')\n",
        "\n",
        "batch_size = 32\n",
        "\n",
        "# Modify generators to handle two types of labels\n",
        "train_generator = train_datagen.flow_from_dataframe(\n",
        "        dataframe=train_data,\n",
        "        directory='./',\n",
        "        x_col=\"image_path\",\n",
        "        y_col=[\"Shape\", \"Type\"],  # Two columns for y_col\n",
        "        target_size=(28, 28),  # Ensure target size matches the input size of the network\n",
        "        batch_size=batch_size,\n",
        "        class_mode='multi_output')\n",
        "\n",
        "validation_generator = val_datagen.flow_from_dataframe(\n",
        "        dataframe=val_data,\n",
        "        directory='./',\n",
        "        x_col=\"image_path\",\n",
        "        y_col=[\"Shape\", \"Type\"],  # Two columns for y_col\n",
        "        target_size=(28, 28),  # Ensure target size matches the input size of the network\n",
        "        batch_size=batch_size,\n",
        "        class_mode='multi_output')"
      ]
    },
    {
      "cell_type": "code",
      "execution_count": null,
      "metadata": {
        "id": "0GKpyr1yp5A7"
      },
      "outputs": [],
      "source": [
        "# Reference for data augmentation\n",
        "\n",
        "# from tensorflow.keras.preprocessing.image import ImageDataGenerator\n",
        "\n",
        "# # Data generators\n",
        "# # Training generator with image augmentation\n",
        "# train_datagen = ImageDataGenerator(\n",
        "#     rescale=1./255,\n",
        "#     rotation_range=40,        # Random rotations from 0 to 40 degrees\n",
        "#     width_shift_range=0.2,    # Random horizontal shifts up to 20% of the image width\n",
        "#     height_shift_range=0.2,   # Random vertical shifts up to 20% of the image height\n",
        "#     shear_range=0.2,          # Shear transformation\n",
        "#     zoom_range=0.2,           # Random zoom up to 20%\n",
        "#     horizontal_flip=True,     # Random horizontal flips\n",
        "#     fill_mode='nearest',      # Strategy for filling in newly created pixels\n",
        "#     data_format='channels_last'\n",
        "# )\n",
        "\n",
        "# # Validation generator without augmentation, only rescaling\n",
        "# val_datagen = ImageDataGenerator(\n",
        "#     rescale=1./255,\n",
        "#     data_format='channels_last'\n",
        "# )\n",
        "\n",
        "# batch_size = 32\n",
        "\n",
        "# # Modify generators to handle two types of labels\n",
        "# train_generator = train_datagen.flow_from_dataframe(\n",
        "#         dataframe=train_data,\n",
        "#         directory='./',\n",
        "#         x_col=\"image_path\",\n",
        "#         y_col=[\"Shape\", \"Type\"],  # Two columns for y_col\n",
        "#         target_size=(28, 28),  # Ensure target size matches the input size of the network\n",
        "#         batch_size=batch_size,\n",
        "#         class_mode='multi_output')\n",
        "\n",
        "# validation_generator = val_datagen.flow_from_dataframe(\n",
        "#         dataframe=val_data,\n",
        "#         directory='./',\n",
        "#         x_col=\"image_path\",\n",
        "#         y_col=[\"Shape\", \"Type\"],  # Two columns for y_col\n",
        "#         target_size=(28, 28),  # Ensure target size matches the input size of the network\n",
        "#         batch_size=batch_size,\n",
        "#         class_mode='multi_output')\n"
      ]
    },
    {
      "cell_type": "code",
      "execution_count": null,
      "metadata": {
        "id": "uCIMmPGI4ZW_"
      },
      "outputs": [],
      "source": [
        "# Ensure to use 'final_model' for training with the correct input and output layers\n",
        "history = final_model.fit(\n",
        "    train_generator,\n",
        "    validation_data=validation_generator,\n",
        "    epochs=50,\n",
        "    verbose=0\n",
        ")"
      ]
    },
    {
      "cell_type": "code",
      "execution_count": null,
      "metadata": {
        "id": "20Hm7BXI2e84"
      },
      "outputs": [],
      "source": [
        "def plot_learning_curve_for_combined(loss, val_loss, shape_acc, type_acc, val_shape_acc, val_type_acc):\n",
        "    import matplotlib.pyplot as plt\n",
        "    epochs = range(1, len(loss) + 1)\n",
        "\n",
        "    plt.figure(figsize=(12, 6))\n",
        "    plt.subplot(1, 2, 1)\n",
        "    plt.plot(epochs, loss, 'bo-', label='Training Loss')\n",
        "    plt.plot(epochs, val_loss, 'ro-', label='Validation Loss')\n",
        "    plt.title('Training and Validation Loss')\n",
        "    plt.xlabel('Epochs')\n",
        "    plt.ylabel('Loss')\n",
        "    plt.legend()\n",
        "\n",
        "    plt.subplot(1, 2, 2)\n",
        "    plt.plot(epochs, shape_acc, 'bo-', label='Training Shape Accuracy')\n",
        "    plt.plot(epochs, type_acc, 'b--', label='Training Type Accuracy')\n",
        "    plt.plot(epochs, val_shape_acc, 'ro-', label='Validation Shape Accuracy')\n",
        "    plt.plot(epochs, val_type_acc, 'r--', label='Validation Type Accuracy')\n",
        "    plt.title('Training and Validation Accuracy')\n",
        "    plt.xlabel('Epochs')\n",
        "    plt.ylabel('Accuracy')\n",
        "    plt.legend()\n",
        "\n",
        "    plt.tight_layout()\n",
        "    plt.show()\n",
        "\n",
        "# Now use the function with correct keys\n",
        "plot_learning_curve_for_combined(history.history['loss'], history.history['val_loss'],\n",
        "                    history.history['shape_output_accuracy'], history.history['type_output_accuracy'],\n",
        "                    history.history['val_shape_output_accuracy'], history.history['val_type_output_accuracy'])\n"
      ]
    },
    {
      "cell_type": "markdown",
      "metadata": {
        "id": "Xn2Oplbz3stP"
      },
      "source": [
        "*Observation*\n",
        "- As the model trains through more epochs, we see a decrease in loss and an increase in accuracy. This means the model is effectively learning from the training data and getting better at correctly classifying the traffic signs into their respective shapes and types. The graphs show that both the training and validation losses drop significantly as the model trains, and the accuracy for identifying shapes and types increases. The training accuracy is slightly higher than the validation accuracy, but since they're close and follow a similar trend, it doesn't indicate serious overfitting. This small gap between the training and validation results is normal and shows that the model is learning well and can handle new, unseen data effectively.\n",
        "\n",
        "\n"
      ]
    },
    {
      "cell_type": "code",
      "execution_count": null,
      "metadata": {
        "id": "MICHK4mM2kv-"
      },
      "outputs": [],
      "source": [
        "print(history.history.keys())"
      ]
    },
    {
      "cell_type": "code",
      "execution_count": null,
      "metadata": {
        "id": "lyI1lMGk6KsH"
      },
      "outputs": [],
      "source": [
        "# Average training accuracy\n",
        "avg_training_accuracy = sum(history.history['shape_output_accuracy']) / len(history.history['shape_output_accuracy'])\n",
        "\n",
        "# Average validation accuracy\n",
        "avg_validation_accuracy = sum(history.history['val_shape_output_accuracy']) / len(history.history['val_shape_output_accuracy'])\n",
        "\n",
        "print(f\"Average Shape Training Accuracy: {avg_training_accuracy*100:.2f}%\")\n",
        "print(f\"Average Shape Validation Accuracy: {avg_validation_accuracy*100:.2f}%\")\n",
        "\n"
      ]
    },
    {
      "cell_type": "code",
      "execution_count": null,
      "metadata": {
        "id": "qh7sLnOH7_XH"
      },
      "outputs": [],
      "source": [
        "# Average training accuracy for Type output\n",
        "avg_training_accuracy_type = sum(history.history['type_output_accuracy']) / len(history.history['type_output_accuracy'])\n",
        "\n",
        "# Average validation accuracy for Type output\n",
        "avg_validation_accuracy_type = sum(history.history['val_type_output_accuracy']) / len(history.history['val_type_output_accuracy'])\n",
        "\n",
        "print(f\"Average Type Training Accuracy: {avg_training_accuracy_type*100:.2f}%\")\n",
        "print(f\"Average Type Validation Accuracy: {avg_validation_accuracy_type*100:.2f}%\")"
      ]
    },
    {
      "cell_type": "code",
      "execution_count": null,
      "metadata": {
        "id": "x0AL8_YRascq"
      },
      "outputs": [],
      "source": [
        "print(history.history.keys())\n"
      ]
    },
    {
      "cell_type": "code",
      "execution_count": null,
      "metadata": {
        "id": "IBDWs-ngZlA0"
      },
      "outputs": [],
      "source": [
        "# Assuming 'history' is the variable holding the training history\n",
        "# Replace 'shape_output_accuracy' and 'val_shape_output_accuracy' with your actual metric names if they are different\n",
        "\n",
        "# Maximum training accuracy\n",
        "max_training_accuracy = max(history.history['shape_output_accuracy'])  # or 'type_output_accuracy' as applicable\n",
        "max_training_epoch = history.history['shape_output_accuracy'].index(max_training_accuracy)\n",
        "\n",
        "# Maximum validation accuracy\n",
        "max_validation_accuracy = max(history.history['val_shape_output_accuracy'])  # or 'val_type_output_accuracy' as applicable\n",
        "max_validation_epoch = history.history['val_shape_output_accuracy'].index(max_validation_accuracy)\n",
        "\n",
        "print(f\"Maximum Training Accuracy: {max_training_accuracy*100:.2f}% at epoch {max_training_epoch+1}\")\n",
        "print(f\"Maximum Validation Accuracy: {max_validation_accuracy*100:.2f}% at epoch {max_validation_epoch+1}\")\n"
      ]
    },
    {
      "cell_type": "code",
      "execution_count": null,
      "metadata": {
        "id": "Ur_69Xr9aLPr"
      },
      "outputs": [],
      "source": [
        "# Assuming 'history' is the variable holding the training history\n",
        "# Replace 'type_output_accuracy' and 'val_type_output_accuracy' with your actual metric names if they are different\n",
        "\n",
        "# Maximum training accuracy for Type\n",
        "max_type_training_accuracy = max(history.history['type_output_accuracy'])  # Use the correct key for type accuracy\n",
        "max_type_training_epoch = history.history['type_output_accuracy'].index(max_type_training_accuracy)\n",
        "\n",
        "# Maximum validation accuracy for Type\n",
        "max_type_validation_accuracy = max(history.history['val_type_output_accuracy'])  # Use the correct key for type validation accuracy\n",
        "max_type_validation_epoch = history.history['val_type_output_accuracy'].index(max_type_validation_accuracy)\n",
        "\n",
        "print(f\"Maximum Training Type Accuracy: {max_type_training_accuracy*100:.2f}% at epoch {max_type_training_epoch+1}\")\n",
        "print(f\"Maximum Validation Type Accuracy: {max_type_validation_accuracy*100:.2f}% at epoch {max_type_validation_epoch+1}\")\n"
      ]
    },
    {
      "cell_type": "markdown",
      "metadata": {
        "id": "m1f_4XVadugy"
      },
      "source": [
        "### Incremental changes"
      ]
    },
    {
      "cell_type": "code",
      "execution_count": null,
      "metadata": {
        "id": "78gz0kltv7fO"
      },
      "outputs": [],
      "source": [
        "# Drop-out?"
      ]
    },
    {
      "cell_type": "markdown",
      "metadata": {
        "id": "_ftxbRMA-qeq"
      },
      "source": [
        "\n",
        "The evaluation results show that the model performs well in predicting shapes with an accuracy of 97.16%. However, its accuracy in predicting types is notably lower at 7.43%. This indicates a need for improvement in the model's ability to predict types accurately."
      ]
    },
    {
      "cell_type": "markdown",
      "metadata": {
        "id": "EnSC24cOd3GB"
      },
      "source": [
        "## Ploting some results"
      ]
    },
    {
      "cell_type": "markdown",
      "metadata": {
        "id": "h_i0NJWOjOlw"
      },
      "source": [
        "# 5.2 Advanced Model: CNN model\n"
      ]
    },
    {
      "cell_type": "markdown",
      "source": [
        "CNNs are better suited for tasks like image recognition because they can exploit the spatial structure of the data through convolutional layers, reducing the number of parameters needed compared to fully connected layers in MLPs, making them more efficient and effective for tasks with spatial relationships, like images.\n",
        "\n"
      ],
      "metadata": {
        "id": "kp5LINB4drWD"
      }
    },
    {
      "cell_type": "markdown",
      "metadata": {
        "id": "52dbWboeL24u"
      },
      "source": [
        "# VGG"
      ]
    },
    {
      "cell_type": "markdown",
      "source": [
        "The VGG architecture enhances basic CNNs through:\n",
        "1. Uniformity: It consistently uses 3×3 convolutional filters and 2×2 max pooling, facilitating deeper network construction.\n",
        "2. Depth: Deeper layers in VGG allow for more complex feature learning, improving image classification performance.\n",
        "3. Robust Training: Strong initialisation, regularisation, and augmentation strategies improve training and prevent overfitting.\n",
        "\n"
      ],
      "metadata": {
        "id": "KFwylIQbdugs"
      }
    },
    {
      "cell_type": "markdown",
      "metadata": {
        "id": "6gAPEY0qr-5Y"
      },
      "source": [
        "Observations:\n"
      ]
    },
    {
      "cell_type": "markdown",
      "metadata": {
        "id": "VqScIw5YqNBH"
      },
      "source": [
        "Visually Interpreting the CNN's Inner Layers"
      ]
    },
    {
      "cell_type": "markdown",
      "metadata": {
        "id": "IZ5VBF9PqPrJ"
      },
      "source": [
        "We examine the internal layers of the CNN model to gain insights and interpret the significance of the features that the model identified while classifying a traffic sign"
      ]
    },
    {
      "cell_type": "markdown",
      "metadata": {
        "id": "BWX4pGu_ggm_"
      },
      "source": [
        "Display prediction result"
      ]
    },
    {
      "cell_type": "markdown",
      "metadata": {
        "id": "BUHBh3KRgmRP"
      },
      "source": [
        "show green color when correct & red when incorrect Actual Vs Predicted"
      ]
    },
    {
      "cell_type": "markdown",
      "metadata": {
        "id": "51fSKOKtNzzv"
      },
      "source": [
        "### Model 2.1 Shape classification using VGG CNN\n"
      ]
    },
    {
      "cell_type": "code",
      "execution_count": null,
      "metadata": {
        "id": "fxwpYENkMzXe"
      },
      "outputs": [],
      "source": [
        "# height = 28 pixel, width = 28 pixel\n",
        "INPUT_DIM = (28,28,3)\n",
        "HIDDEN_LAYER_DIM = 128\n",
        "OUTPUT_CLASSES_SHAPE = 5  # Number of shape classes\n",
        "OUTPUT_CLASSES_TYPE = 16  # Number of type classes"
      ]
    },
    {
      "cell_type": "code",
      "execution_count": null,
      "metadata": {
        "id": "5W7dbQS_MNih"
      },
      "outputs": [],
      "source": [
        "import tensorflow as tf\n",
        "model_VGG_1 = tf.keras.Sequential([\n",
        "    #VGG block 1\n",
        "    tf.keras.layers.Conv2D(32, (3, 3), activation='relu', padding='same', input_shape=(28, 28, 3)),\n",
        "    tf.keras.layers.Conv2D(32, (3, 3), activation='relu', padding='same'),\n",
        "    tf.keras.layers.MaxPooling2D((2, 2)),\n",
        "\n",
        "    #VGG block 2\n",
        "    tf.keras.layers.Conv2D(64, (3, 3), activation='relu', padding='same'),\n",
        "    tf.keras.layers.Conv2D(64, (3, 3), activation='relu', padding='same'),\n",
        "    tf.keras.layers.MaxPooling2D((2, 2)),\n",
        "\n",
        "    #VGG block 3\n",
        "    tf.keras.layers.Conv2D(128, (3, 3), activation='relu', padding='same'),\n",
        "    tf.keras.layers.Conv2D(128, (3, 3), activation='relu', padding='same'),\n",
        "    tf.keras.layers.MaxPooling2D((2, 2)),\n",
        "\n",
        "    tf.keras.layers.Flatten(),\n",
        "    tf.keras.layers.Dense(128, activation='relu'),\n",
        "    tf.keras.layers.Dense(OUTPUT_CLASSES_SHAPE),\n",
        "])"
      ]
    },
    {
      "cell_type": "code",
      "execution_count": null,
      "metadata": {
        "id": "gD1pBOIpNqpu"
      },
      "outputs": [],
      "source": [
        "# Generating the image for model architecture\n",
        "visualkeras.layered_view(model_VGG_1, scale_xy=2, scale_z=1, max_z=50, legend=True)"
      ]
    },
    {
      "cell_type": "code",
      "execution_count": null,
      "metadata": {
        "id": "Y7iPs-jUOrAx"
      },
      "outputs": [],
      "source": [
        "model_VGG_1.compile(optimizer='adam',\n",
        "              loss=tf.keras.losses.CategoricalCrossentropy(from_logits=True),\n",
        "              metrics=['categorical_accuracy'])"
      ]
    },
    {
      "cell_type": "code",
      "execution_count": null,
      "metadata": {
        "id": "OXoUDkbiPLIP"
      },
      "outputs": [],
      "source": [
        "from tensorflow.keras.preprocessing.image import ImageDataGenerator\n",
        "\n",
        "train_datagen = ImageDataGenerator(rescale=1./255, data_format='channels_last')\n",
        "val_datagen = ImageDataGenerator(rescale=1./255, data_format='channels_last')\n",
        "\n",
        "batch_size = 1000\n",
        "#'image_path', 'shape_label', 'type_label'\n",
        "train_generator = train_datagen.flow_from_dataframe(\n",
        "        dataframe=train_data,\n",
        "        directory='./',\n",
        "        x_col=\"image_path\",\n",
        "        y_col=\"shape_label_str\",\n",
        "        target_size=(28, 28),\n",
        "        batch_size=batch_size,\n",
        "        class_mode='categorical')\n",
        "\n",
        "validation_generator = val_datagen.flow_from_dataframe(\n",
        "        dataframe=val_data,\n",
        "        directory='./',\n",
        "        x_col=\"image_path\",\n",
        "        y_col=\"shape_label_str\",\n",
        "        target_size=(28, 28),\n",
        "        batch_size=batch_size,\n",
        "        class_mode='categorical')"
      ]
    },
    {
      "cell_type": "code",
      "execution_count": null,
      "metadata": {
        "id": "eWji_QsyOycj"
      },
      "outputs": [],
      "source": [
        "history_VGG_1 = model_VGG_1.fit(\n",
        "    train_generator,\n",
        "    validation_data=validation_generator,\n",
        "    epochs=25,\n",
        "    verbose=0\n",
        ")"
      ]
    },
    {
      "cell_type": "code",
      "source": [
        "plot_learning_curve(history_VGG_1.history['loss'], history_VGG_1.history['val_loss'],\n",
        "                    history_VGG_1.history['categorical_accuracy'], history_VGG_1.history['val_categorical_accuracy'],\n",
        "                    metric_name='Accuracy')"
      ],
      "metadata": {
        "id": "02_nXePVTjy5"
      },
      "execution_count": null,
      "outputs": []
    },
    {
      "cell_type": "code",
      "source": [
        "# Assuming history_VGG_1.history['categorical_accuracy'] and\n",
        "# history_VGG_1.history['val_categorical_accuracy'] are for shape classification:\n",
        "shape_train_accuracies = history_VGG_1.history['categorical_accuracy']\n",
        "shape_val_accuracies = history_VGG_1.history['val_categorical_accuracy']\n",
        "\n",
        "# Calculate maximum and average accuracies for shape classification\n",
        "max_shape_train_accuracy = max(shape_train_accuracies) * 100  # Convert to percentage\n",
        "average_shape_train_accuracy = (sum(shape_train_accuracies) / len(shape_train_accuracies)) * 100  # Convert to percentage\n",
        "max_shape_val_accuracy = max(shape_val_accuracies) * 100  # Convert to percentage\n",
        "average_shape_val_accuracy = (sum(shape_val_accuracies) / len(shape_val_accuracies)) * 100  # Convert to percentage\n",
        "\n",
        "print(\"Maximum Training Accuracy for Shape Classification: {:.2f}%\".format(max_shape_train_accuracy))\n",
        "print(\"Average Training Accuracy for Shape Classification: {:.2f}%\".format(average_shape_train_accuracy))\n",
        "print(\"Maximum Validation Accuracy for Shape Classification: {:.2f}%\".format(max_shape_val_accuracy))\n",
        "print(\"Average Validation Accuracy for Shape Classification: {:.2f}%\".format(average_shape_val_accuracy))\n"
      ],
      "metadata": {
        "id": "462NasQVqaLP"
      },
      "execution_count": null,
      "outputs": []
    },
    {
      "cell_type": "markdown",
      "metadata": {
        "id": "fq1iFzYYN32g"
      },
      "source": [
        "### Model 2.2 Type classification using VGG CNN\n"
      ]
    },
    {
      "cell_type": "code",
      "execution_count": null,
      "metadata": {
        "id": "9ckdyoKPN7ih"
      },
      "outputs": [],
      "source": [
        "import tensorflow as tf\n",
        "\n",
        "\n",
        "model_VGG_2 = tf.keras.Sequential([\n",
        "    #VGG block 1\n",
        "    tf.keras.layers.Conv2D(32, (3, 3), activation='relu', padding='same', input_shape=(28, 28, 3)),\n",
        "    tf.keras.layers.Conv2D(32, (3, 3), activation='relu', padding='same'),\n",
        "    tf.keras.layers.MaxPooling2D((2, 2)),\n",
        "\n",
        "    #VGG block 2\n",
        "    tf.keras.layers.Conv2D(64, (3, 3), activation='relu', padding='same'),\n",
        "    tf.keras.layers.Conv2D(64, (3, 3), activation='relu', padding='same'),\n",
        "    tf.keras.layers.MaxPooling2D((2, 2)),\n",
        "\n",
        "    #VGG block 3\n",
        "    tf.keras.layers.Conv2D(128, (3, 3), activation='relu', padding='same'),\n",
        "    tf.keras.layers.Conv2D(128, (3, 3), activation='relu', padding='same'),\n",
        "    tf.keras.layers.MaxPooling2D((2, 2)),\n",
        "\n",
        "    tf.keras.layers.Flatten(),\n",
        "    tf.keras.layers.Dense(128, activation='relu'),\n",
        "    tf.keras.layers.Dense(OUTPUT_CLASSES_TYPE),\n",
        "])"
      ]
    },
    {
      "cell_type": "code",
      "execution_count": null,
      "metadata": {
        "id": "PxCqU0IfN_kQ"
      },
      "outputs": [],
      "source": [
        "# Generating the image for model architecture\n",
        "visualkeras.layered_view(model_VGG_2, scale_xy=2, scale_z=1, max_z=50, legend=True)"
      ]
    },
    {
      "cell_type": "code",
      "execution_count": null,
      "metadata": {
        "id": "Os3f5gFoOsu7"
      },
      "outputs": [],
      "source": [
        "model_VGG_2.compile(optimizer='adam',\n",
        "              loss=tf.keras.losses.CategoricalCrossentropy(from_logits=True),\n",
        "              metrics=['categorical_accuracy'])"
      ]
    },
    {
      "cell_type": "code",
      "source": [
        "from tensorflow.keras.preprocessing.image import ImageDataGenerator\n",
        "\n",
        "train_datagen = ImageDataGenerator(rescale=1./255, data_format='channels_last')\n",
        "val_datagen = ImageDataGenerator(rescale=1./255, data_format='channels_last')\n",
        "\n",
        "batch_size = 1000\n",
        "#'image_path', 'shape_label', 'type_label'\n",
        "train_generator = train_datagen.flow_from_dataframe(\n",
        "        dataframe=train_data,\n",
        "        directory='./',\n",
        "        x_col=\"image_path\",\n",
        "        y_col=\"type_label_str\",\n",
        "        target_size=(28, 28),\n",
        "        batch_size=batch_size,\n",
        "        class_mode='categorical')\n",
        "\n",
        "validation_generator = val_datagen.flow_from_dataframe(\n",
        "        dataframe=val_data,\n",
        "        directory='./',\n",
        "        x_col=\"image_path\",\n",
        "        y_col=\"type_label_str\",\n",
        "        target_size=(28, 28),\n",
        "        batch_size=batch_size,\n",
        "        class_mode='categorical')"
      ],
      "metadata": {
        "id": "uSTdbGPoVivn"
      },
      "execution_count": null,
      "outputs": []
    },
    {
      "cell_type": "code",
      "execution_count": null,
      "metadata": {
        "id": "jhQlDvmDO2cl"
      },
      "outputs": [],
      "source": [
        "history_VGG_2 = model_VGG_2.fit(\n",
        "    train_generator,\n",
        "    validation_data=validation_generator,\n",
        "    epochs=25,\n",
        "    verbose=0\n",
        ")"
      ]
    },
    {
      "cell_type": "code",
      "source": [
        "plot_learning_curve(history_VGG_2.history['loss'], history_VGG_1.history['val_loss'],\n",
        "                    history_VGG_2.history['categorical_accuracy'], history_VGG_1.history['val_categorical_accuracy'],\n",
        "                    metric_name='Accuracy')"
      ],
      "metadata": {
        "id": "_IHiDhcoj-RW"
      },
      "execution_count": null,
      "outputs": []
    },
    {
      "cell_type": "code",
      "source": [
        "# Assuming history_VGG_1.history['categorical_accuracy'] and\n",
        "# history_VGG_1.history['val_categorical_accuracy'] are for shape classification:\n",
        "type_train_accuracies = history_VGG_2.history['categorical_accuracy']\n",
        "type_val_accuracies = history_VGG_2.history['val_categorical_accuracy']\n",
        "\n",
        "# Calculate maximum and average accuracies for shape classification\n",
        "max_type_train_accuracy = max(type_train_accuracies) * 100  # Convert to percentage\n",
        "average_type_train_accuracy = (sum(type_train_accuracies) / len(type_train_accuracies)) * 100  # Convert to percentage\n",
        "max_type_val_accuracy = max(type_val_accuracies) * 100  # Convert to percentage\n",
        "average_type_val_accuracy = (sum(type_val_accuracies) / len(type_val_accuracies)) * 100  # Convert to percentage\n",
        "\n",
        "print(\"Maximum Training Accuracy for Type Classification: {:.2f}%\".format(max_type_train_accuracy))\n",
        "print(\"Average Training Accuracy for Type Classification: {:.2f}%\".format(average_type_train_accuracy))\n",
        "print(\"Maximum Validation Accuracy for Type Classification: {:.2f}%\".format(max_type_val_accuracy))\n",
        "print(\"Average Validation Accuracy for Type Classification: {:.2f}%\".format(average_type_val_accuracy))"
      ],
      "metadata": {
        "id": "qum0zyLsQwJD"
      },
      "execution_count": null,
      "outputs": []
    },
    {
      "cell_type": "markdown",
      "metadata": {
        "id": "dnrIBlxWdwjA"
      },
      "source": [
        "## 6. Testing the final model"
      ]
    },
    {
      "cell_type": "code",
      "execution_count": null,
      "metadata": {
        "id": "EpLoh_aZ9juU"
      },
      "outputs": [],
      "source": [
        "# # Data generator for test data\n",
        "# test_datagen = ImageDataGenerator(rescale=1./255, data_format='channels_last')\n",
        "\n",
        "# batch_size = 1\n",
        "\n",
        "# test_generator = test_datagen.flow_from_dataframe(\n",
        "#         dataframe=test_data,\n",
        "#         directory='./',\n",
        "#         x_col=\"image_path\",\n",
        "#         y_col=[\"Shape\", \"Type\"],  # Assuming you want to predict both Shape and Type\n",
        "#         target_size=(32, 32),\n",
        "#         batch_size=batch_size,\n",
        "#         class_mode='multi_output')  # Set to 'multi_output' to match your model's configuration"
      ]
    },
    {
      "cell_type": "code",
      "execution_count": null,
      "metadata": {
        "id": "FzjU9XXK-OuY"
      },
      "outputs": [],
      "source": [
        "# # Data generator for test data\n",
        "# test_datagen = ImageDataGenerator(rescale=1./255, data_format='channels_last')\n",
        "\n",
        "# batch_size = 32  # or any batch size that fits your memory constraints\n",
        "\n",
        "# test_generator = test_datagen.flow_from_dataframe(\n",
        "#         dataframe=test_data,\n",
        "#         directory='./',\n",
        "#         x_col=\"image_path\",\n",
        "#         y_col=[\"Shape\", \"Type\"],  # Assuming you want to predict both Shape and Type\n",
        "#         target_size=(28, 28),  # Ensure target size matches the input size of the network\n",
        "#         batch_size=batch_size,\n",
        "#         class_mode='multi_output')  # Set to 'multi_output' to match your model's configuration\n",
        "\n",
        "# # Evaluate the model\n",
        "# final_model.evaluate(test_generator)\n"
      ]
    },
    {
      "cell_type": "code",
      "execution_count": null,
      "metadata": {
        "id": "WkP7Jwtb_HSe"
      },
      "outputs": [],
      "source": [
        "# ## still wrong\n",
        "\n",
        "# import matplotlib.pyplot as plt\n",
        "# import numpy as np\n",
        "\n",
        "# # Increase the figure size and font size for better visibility\n",
        "# plt.figure(figsize=(20, 5))  # Adjust the figure size as needed\n",
        "# font = {'family' : 'serif',\n",
        "#         'weight' : 'bold',\n",
        "#         'size'   : 12}  # Increase font size for better readability\n",
        "# plt.rc('font', **font)\n",
        "\n",
        "# batches = 0\n",
        "# for x, y in test_generator:\n",
        "#     batches += 1\n",
        "#     y_hat = final_model.predict(x, verbose=0)\n",
        "#     x = np.squeeze(x)\n",
        "#     if batches < 5:\n",
        "#         plt.subplot(1, 5, batches)\n",
        "#         plt.imshow(x[0])  # Displaying the first image in the batch\n",
        "#         shape_pred_index = np.argmax(y[0])\n",
        "#         type_pred_index = np.argmax(y_hat[1])\n",
        "#         try:\n",
        "#             shape_label = shapes_inv[shape_pred_index]\n",
        "#         except KeyError:\n",
        "#             shape_label = 'Unknown Shape'\n",
        "#         try:\n",
        "#             type_label = types_inv[type_pred_index]\n",
        "#         except KeyError:\n",
        "#             type_label = 'Unknown Type'\n",
        "#         plt.title(\"Actual-{}, Pred-{}\".format(shape_label, type_label), pad=20)  # Add padding to avoid overlap\n",
        "#     else:\n",
        "#         break\n",
        "\n",
        "#     plt.axis('off')\n",
        "# plt.tight_layout()  # Adjust layout to fit everything nicely\n",
        "# plt.show()\n"
      ]
    },
    {
      "cell_type": "markdown",
      "metadata": {
        "id": "pc6TdgyxGb3h"
      },
      "source": [
        "## 7. Conclusion"
      ]
    },
    {
      "cell_type": "markdown",
      "metadata": {
        "id": "16MgmQJJGgm0"
      },
      "source": [
        "\n",
        "MLPs serve as a practical baseline for tasks like traffic sign classification due to their straightforward implementation and quick training. They are capable of modelling interactions between all input features, which is crucial for recognising complex patterns in the dataset. However, they are typically less effective than Convolutional Neural Networks (CNNs) for processing image data, as CNNs excel at capturing spatial hierarchies through their convolutional layers. This is evident from comparison tables where CNNs consistently show lower loss and higher accuracy.\n",
        "In conclusion, we think Model 2 (CNN) is superior.\n"
      ]
    },
    {
      "cell_type": "markdown",
      "metadata": {
        "id": "w1fpFeOjcD3h"
      },
      "source": [
        "# 8. References"
      ]
    },
    {
      "cell_type": "markdown",
      "metadata": {
        "id": "KkTYC1m-qICG"
      },
      "source": [
        "- https://www.linkedin.com/pulse/classify-traffic-signs-deep-learning-james-medel/\n",
        "- https://github.com/james94/P3-Traffic-Sign-Classifier-CarND/blob/master/Traffic_Sign_Classifier_with_LeNet.ipynb\n",
        "- https://www.youtube.com/watch?v=jztwpsIzEGc\n",
        "- https://www.datacamp.com/tutorial/cnn-tensorflow-python"
      ]
    }
  ],
  "metadata": {
    "colab": {
      "provenance": [],
      "gpuType": "T4"
    },
    "kernelspec": {
      "display_name": "Python 3",
      "name": "python3"
    },
    "language_info": {
      "codemirror_mode": {
        "name": "ipython",
        "version": 3
      },
      "file_extension": ".py",
      "mimetype": "text/x-python",
      "name": "python",
      "nbconvert_exporter": "python",
      "pygments_lexer": "ipython3",
      "version": "3.9.7"
    },
    "accelerator": "GPU"
  },
  "nbformat": 4,
  "nbformat_minor": 0
}